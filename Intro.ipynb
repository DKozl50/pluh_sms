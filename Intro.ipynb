{
 "cells": [
  {
   "cell_type": "markdown",
   "metadata": {},
   "source": [
    "# Введение в работу с Azure Machine Learning (AML)\n",
    "\n",
    "---\n",
    "\n",
    "## Введение\n",
    "[Azure Machine Learning](https://docs.microsoft.com/en-us/azure/machine-learning/overview-what-is-azure-ml) предоставляет возможности по работе с данными, версионированию датасетов, моделей и логированию результатов обучения. Весь этот функционал доступен из Python SDK. В данном ноутбуке мы рассмотрим:\n",
    "* подключение к AML Workspace\n",
    "* доступ к датасету\n",
    "* создание эксперимента и отслеживание метрик\n",
    "* выбор лучшей модели\n",
    "\n",
    "Для работы вам потребуется [**Azure ML SDK**](https://docs.microsoft.com/en-us/python/api/overview/azure/ml/?view=azure-ml-py). AML SDK предустановлен в следующих ***conda*** окружениях:\n",
    "* с префиксом `azureml_py36_*` - Python 3.6\n",
    "* `py37_default`- Python 3.7\n",
    "\n",
    "***Окружение `azureml_py36_automl` является рекомендованным.***\n",
    "\n",
    "Для каждой команды мы заранее создали Azure ML Workspace и зарегистрировали в нем датасет `train_ds`, содержащий исходные данные."
   ]
  },
  {
   "cell_type": "markdown",
   "metadata": {},
   "source": [
    "---\n",
    "\n",
    "## Подключение к AML Workspace\n",
    "\n",
    "[`Workspace`](https://docs.microsoft.com/en-us/azure/machine-learning/concept-workspace) — основной объект для хранения и доступа к экспериментам, датасетам и другим артифактам вашей работы.\n",
    "Импортируем SDK и подключимся к командному Workspace. \n",
    "\n",
    "*Ячейка ниже не требует редактирования. После авторизации возвращает номер вашей команды и объект Workspace.*"
   ]
  },
  {
   "cell_type": "code",
   "execution_count": 1,
   "metadata": {
    "msdoc": "how-to-track-experiments.md",
    "name": "load_ws",
    "tags": [
     "install"
    ]
   },
   "outputs": [
    {
     "name": "stdout",
     "output_type": "stream",
     "text": [
      "You are currently using version 1.5.0 of the Azure ML SDK\n",
      "\n",
      "Performing interactive authentication. Please follow the instructions on the terminal.\n",
      "To sign in, use a web browser to open the page https://microsoft.com/devicelogin and enter the code CKCULJKMK to authenticate.\n",
      "Interactive authentication successfully completed.\n",
      "Workspace name: team20\n"
     ]
    }
   ],
   "source": [
    "import azureml.core\n",
    "from azureml.core.authentication import InteractiveLoginAuthentication\n",
    "from azureml.core import Experiment, Workspace\n",
    "\n",
    "# Check core SDK version number\n",
    "print(\"You are currently using version\", azureml.core.VERSION, \"of the Azure ML SDK\")\n",
    "print(\"\")\n",
    "\n",
    "# Log In to Azure ML Workspace\n",
    "interactive_auth = InteractiveLoginAuthentication(tenant_id=\"76f90eb1-fb9a-4446-9875-4d323d6455ad\")\n",
    "\n",
    "ws = Workspace.from_config(auth=interactive_auth)\n",
    "print('Workspace name: ' + ws.name, sep='\\n')"
   ]
  },
  {
   "cell_type": "markdown",
   "metadata": {},
   "source": [
    "---\n",
    "\n",
    "## Доступ к датасету"
   ]
  },
  {
   "cell_type": "markdown",
   "metadata": {},
   "source": [
    "Для доступа к датасету `train_ds` используем метод [`get_by_name`](https://docs.microsoft.com/en-us/python/api/azureml-core/azureml.core.dataset.dataset?view=azure-ml-py#get-by-name-workspace--name--version--latest--). Он вернет объект класса [`TabularDataset`](https://docs.microsoft.com/en-us/python/api/azureml-core/azureml.data.tabulardataset?view=azure-ml-py#methods). Который далее можно материализовать в Pandas Dataframe.\n",
    "\n",
    "**!NB** Помните о том, что вы используете shared вычислительные ресурсы на команду. Импортировать весь датасет целиком каждому участнику может быть не оптимально.\n",
    "\n",
    "Для предобработки и анализа части датасета можно использовать следующие методы:\n",
    "* [take(count)](https://docs.microsoft.com/en-us/python/api/azureml-core/azureml.data.tabulardataset?view=azure-ml-py#take-count-)\n",
    "* [take_sample(probability, seed=None)](https://docs.microsoft.com/en-us/python/api/azureml-core/azureml.data.tabulardataset?view=azure-ml-py#take-sample-probability--seed-none-)\n",
    "* [skip(count)](https://docs.microsoft.com/en-us/python/api/azureml-core/azureml.data.tabulardataset?view=azure-ml-py#skip-count-)"
   ]
  },
  {
   "cell_type": "code",
   "execution_count": 2,
   "metadata": {},
   "outputs": [],
   "source": [
    "from azureml.core import Dataset\n",
    "\n",
    "# get the dataset from Azure ML Workspace\n",
    "aml_dataset = Dataset.get_by_name(ws, 'train_ds', version='latest')\n",
    "pdf = aml_dataset.take(100).to_pandas_dataframe()"
   ]
  },
  {
   "cell_type": "markdown",
   "metadata": {},
   "source": [
    "**Сохранить локально**\n",
    "\n",
    "Если в ходе работы вам потребуется сохранить датасет локально на виртуальной машине, можно использовать методы [`to_csv_files()`](https://docs.microsoft.com/en-us/python/api/azureml-core/azureml.data.tabulardataset?view=azure-ml-py#to-csv-files-separator-----) и [`download()`](https://docs.microsoft.com/en-us/python/api/azureml-core/azureml.data.filedataset?view=azure-ml-py#download-target-path-none--overwrite-false-)."
   ]
  },
  {
   "cell_type": "code",
   "execution_count": null,
   "metadata": {},
   "outputs": [],
   "source": [
    "aml_dataset.to_csv_files(separator=',').download(target_path='/home/user_X/data/')"
   ]
  },
  {
   "cell_type": "markdown",
   "metadata": {},
   "source": [
    "**Регистрация новой версии датасета**\n",
    "\n",
    "По мере работы с данными внешний вид датасета будет трансформироваться. Для сохранения и регистрации новой версии датасета внутри AML Workspace необходимо:\n",
    "* загрузить файл с новым датасетом в Workspace \n",
    "* зарегистрировать новую версию датасета"
   ]
  },
  {
   "cell_type": "code",
   "execution_count": null,
   "metadata": {},
   "outputs": [],
   "source": [
    "# To create a dataset from an in memory pandas dataframe,\n",
    "# write the data to a local file, like a csv, and create your dataset from that file.\n",
    "local_path = '~/data/new_data.csv'\n",
    "pdf.to_csv(local_path)"
   ]
  },
  {
   "cell_type": "code",
   "execution_count": null,
   "metadata": {},
   "outputs": [],
   "source": [
    "# upload the local file to a datastore on the cloud\n",
    "from azureml.core import Dataset\n",
    "\n",
    "# get the datastore to upload prepared data\n",
    "datastore = ws.get_default_datastore()\n",
    "\n",
    "# upload the local file from src_dir to the target_path in cloud datastore\n",
    "datastore.upload(src_dir='/home/user_X/data', target_path='data',overwrite=True)\n",
    "# create a dataset referencing the cloud location\n",
    "dataset = Dataset.Tabular.from_delimited_files(datastore.path('data/new_data.csv'))\n",
    "# register a new dataset in Azure ML Workspace\n",
    "registerered_ds = dataset.register(workspace=ws,\n",
    "                                 name='new_data',\n",
    "                                 description='Team_XX transformed dataset',\n",
    "                                 tags={'CSV':'True'})"
   ]
  },
  {
   "cell_type": "markdown",
   "metadata": {},
   "source": [
    "---\n",
    "## Обучение модели и логирование метрик\n",
    "\n",
    "В ходе обучения будем использовать AML для сохранения полезной информации о полученных результатах внутри Experiment. Обычно эксперимент заключает в себе наработки по проверке одиночной гипотезы. Experiment содержит набор итераций обучения - [`Runs`](https://docs.microsoft.com/en-us/python/api/azureml-core/azureml.core.run(class)?view=azure-ml-py).  Для логирования метрик и моделей:\n",
    "* Cоздаем [`Experiment`](https://docs.microsoft.com/en-us/python/api/azureml-core/azureml.core.experiment(class)?view=azure-ml-py) внутри нашего Workspace\n",
    "* Используем [`start_logging`](https://docs.microsoft.com/en-us/python/api/azureml-core/azureml.core.experiment(class)?view=azure-ml-py#start-logging--args----kwargs-) для создания нового Run внутри Experiment\n",
    "* Для логирования необходимых параметров и метрик используем [`run.log()`](https://docs.microsoft.com/en-us/python/api/azureml-core/azureml.core.run(class)?view=azure-ml-py#log-name--value--description----). В дальнейшем мы сможем просмотреть все метрики через [портал](https://ml.azure.com/) Azure ML.\n",
    "* Сохраняем полученную модель в директории **outputs**, которая автоматически загружается в ваш Workspace при завершении Run.\n",
    "* Используем [`run.complete()`](https://docs.microsoft.com/en-us/python/api/azureml-core/azureml.core.run(class)?view=azure-ml-py#complete--set-status-true-) чтобы указать что текущая итерация обучения (Run) завершена и все результаты могут быть отправлены в Workspace.\n",
    "\n",
    "**!NB**  Обратите внимание на доступные методы ***run.log_\\**** Они позволяют добавлять в Run различные виды метрик (например, изображения, таблицы). Также приветствуется использование тэгов."
   ]
  },
  {
   "cell_type": "code",
   "execution_count": 8,
   "metadata": {
    "msdoc": "how-to-track-experiments.md",
    "name": "load_data"
   },
   "outputs": [
    {
     "name": "stdout",
     "output_type": "stream",
     "text": [
      "Data contains 353 training samples and 89 test samples\n"
     ]
    }
   ],
   "source": [
    "from sklearn.datasets import load_diabetes\n",
    "from sklearn.linear_model import Ridge\n",
    "from sklearn.metrics import mean_squared_error\n",
    "from sklearn.model_selection import train_test_split\n",
    "import joblib\n",
    "\n",
    "X, y = load_diabetes(return_X_y = True)\n",
    "columns = ['age', 'gender', 'bmi', 'bp', 's1', 's2', 's3', 's4', 's5', 's6']\n",
    "X_train, X_test, y_train, y_test = train_test_split(X, y, test_size=0.2, random_state=0)\n",
    "data = {\n",
    "    \"train\":{\"X\": X_train, \"y\": y_train},        \n",
    "    \"test\":{\"X\": X_test, \"y\": y_test}\n",
    "}\n",
    "\n",
    "print (\"Data contains\", len(data['train']['X']), \"training samples and\",len(data['test']['X']), \"test samples\")"
   ]
  },
  {
   "cell_type": "code",
   "execution_count": 9,
   "metadata": {
    "msdoc": "how-to-track-experiments.md",
    "name": "create_experiment",
    "tags": [
     "local run",
     "outputs upload"
    ]
   },
   "outputs": [
    {
     "name": "stdout",
     "output_type": "stream",
     "text": [
      "Mean Squared Error is 3424.900315896017\n"
     ]
    }
   ],
   "source": [
    "# Get an experiment object from Azure Machine Learning\n",
    "experiment = Experiment(workspace=ws, name=\"my-first-experiment_mark\")\n",
    "\n",
    "# Create a run object in the experiment\n",
    "run =  experiment.start_logging()\n",
    "# Log the algorithm parameter alpha to the run\n",
    "run.log('alpha', 0.03)\n",
    "\n",
    "# Create, fit, and test the scikit-learn Ridge regression model\n",
    "regression_model = Ridge(alpha=0.03)\n",
    "regression_model.fit(data['train']['X'], data['train']['y'])\n",
    "preds = regression_model.predict(data['test']['X'])\n",
    "\n",
    "# Output the Mean Squared Error to the notebook and to the run\n",
    "print('Mean Squared Error is', mean_squared_error(data['test']['y'], preds))\n",
    "run.log('mse', mean_squared_error(data['test']['y'], preds))\n",
    "\n",
    "# Save the model to the outputs directory for capture\n",
    "model_file_name = 'outputs/model.pkl'\n",
    "\n",
    "joblib.dump(value = regression_model, filename = model_file_name)\n",
    "\n",
    "# upload the model file explicitly into artifacts \n",
    "run.upload_file(name = model_file_name, path_or_stream = model_file_name)\n",
    "\n",
    "# Complete the run\n",
    "run.complete()"
   ]
  },
  {
   "cell_type": "markdown",
   "metadata": {},
   "source": [
    "### Просмотр результатов Run\n",
    "Azure Machine Learning хранит все сведения о Run в облаке Microsoft Azure. Получить доступ к текущему Run можно прямо из кода или из [портала](https://ml.azure.com/) Azure ML."
   ]
  },
  {
   "cell_type": "code",
   "execution_count": 10,
   "metadata": {},
   "outputs": [
    {
     "data": {
      "text/html": [
       "<table style=\"width:100%\"><tr><th>Experiment</th><th>Id</th><th>Type</th><th>Status</th><th>Details Page</th><th>Docs Page</th></tr><tr><td>my-first-experiment_mark</td><td>bb7b970f-5e9c-459e-a765-0f392c79f789</td><td></td><td>Running</td><td><a href=\"https://ml.azure.com/experiments/my-first-experiment_mark/runs/bb7b970f-5e9c-459e-a765-0f392c79f789?wsid=/subscriptions/012d2650-b1a2-4d8e-ac7b-a38cad247985/resourcegroups/team20/workspaces/team20\" target=\"_blank\" rel=\"noopener\">Link to Azure Machine Learning studio</a></td><td><a href=\"https://docs.microsoft.com/en-us/python/api/azureml-core/azureml.core.run.Run?view=azure-ml-py\" target=\"_blank\" rel=\"noopener\">Link to Documentation</a></td></tr></table>"
      ],
      "text/plain": [
       "Run(Experiment: my-first-experiment_mark,\n",
       "Id: bb7b970f-5e9c-459e-a765-0f392c79f789,\n",
       "Type: None,\n",
       "Status: Running)"
      ]
     },
     "execution_count": 10,
     "metadata": {},
     "output_type": "execute_result"
    }
   ],
   "source": [
    "run"
   ]
  },
  {
   "cell_type": "markdown",
   "metadata": {},
   "source": [
    "### Пример: подбор параметров\n",
    "Пример ниже демонстрирует реализацию механизма подбора параметра **alpha** в ходе обучения. Для каждого значения Alpha создается свой Run. По завершении эксперимента это позволит нам выбрать лучшую модель.\n",
    "\n",
    "**!NB** `with experiment.start_logging() as run` автоматически вызовет `run.complete()` в конце каждого цикла."
   ]
  },
  {
   "cell_type": "code",
   "execution_count": null,
   "metadata": {},
   "outputs": [],
   "source": [
    "import numpy as np\n",
    "from tqdm import tqdm\n",
    "\n",
    "# list of numbers from 0 to 1.0 with a 0.05 interval\n",
    "alphas = np.arange(0.0, 1.0, 0.05)\n",
    "\n",
    "# try a bunch of alpha values in a Linear Regression (Ridge) model\n",
    "for alpha in tqdm(alphas):\n",
    "    # create a bunch of runs, each train a model with a different alpha value\n",
    "    with experiment.start_logging() as run:\n",
    "        # Use Ridge algorithm to build a regression model\n",
    "        regression_model = Ridge(alpha=alpha)\n",
    "        regression_model.fit(X=data[\"train\"][\"X\"], y=data[\"train\"][\"y\"])\n",
    "        preds = regression_model.predict(X=data[\"test\"][\"X\"])\n",
    "        mse = mean_squared_error(y_true=data[\"test\"][\"y\"], y_pred=preds)\n",
    "\n",
    "        # log alpha, mean_squared_error and feature names in run history\n",
    "        run.log(name=\"alpha\", value=alpha)\n",
    "        run.log(name=\"mse\", value=mse)\n",
    "\n",
    "        # Save the model to the outputs directory for capture\n",
    "        joblib.dump(value=regression_model, filename='outputs/model.pkl')\n"
   ]
  },
  {
   "cell_type": "markdown",
   "metadata": {},
   "source": [
    "### Просмотр результатов Experiment\n",
    "Аналогично с результатами Run, мы можем получить обзор о проведенном эксперименте. [Портал](https://ml.azure.com/)  Azure ML предоставляет возможность строить графики по залогированным метрикам. Эти графики можно использовать в презентации своей работы."
   ]
  },
  {
   "cell_type": "code",
   "execution_count": 15,
   "metadata": {},
   "outputs": [
    {
     "data": {
      "text/html": [
       "<table style=\"width:100%\"><tr><th>Name</th><th>Workspace</th><th>Report Page</th><th>Docs Page</th></tr><tr><td>my-first-experiment_mark</td><td>team20</td><td><a href=\"https://ml.azure.com/experiments/my-first-experiment_mark?wsid=/subscriptions/012d2650-b1a2-4d8e-ac7b-a38cad247985/resourcegroups/team20/workspaces/team20\" target=\"_blank\" rel=\"noopener\">Link to Azure Machine Learning studio</a></td><td><a href=\"https://docs.microsoft.com/en-us/python/api/azureml-core/azureml.core.experiment.Experiment?view=azure-ml-py\" target=\"_blank\" rel=\"noopener\">Link to Documentation</a></td></tr></table>"
      ],
      "text/plain": [
       "Experiment(Name: my-first-experiment_mark,\n",
       "Workspace: team20)"
      ]
     },
     "execution_count": 15,
     "metadata": {},
     "output_type": "execute_result"
    }
   ],
   "source": [
    "# now let's take a look at the experiment in Azure portal.\n",
    "experiment"
   ]
  },
  {
   "cell_type": "markdown",
   "metadata": {},
   "source": [
    "### Выбор лучшей модели\n",
    "\n",
    "Для выбора наиболее успешной модели сравним полученный набор Runs внутри Experiment. Для каждого Run получим его ID используя свойство `id` , и проанализируем метрики вызвав `run.get_metrics()`.  \n",
    "\n",
    "Так как каждый Run внутри эксперимента может иметь различный набор метрик, нужно удостовериться что он имеет нужную нам -  **mse**.  Для поиска лучшего Run создадим dictionary ID - MSE.\n",
    "\n",
    "Затем используем метод [`tag`](https://docs.microsoft.com/en-us/python/api/azureml-core/azureml.core.run(class)?view=azure-ml-py#tag-key--value-none-) и присвоим лучшему Run значение \"Best Run\". Данный тэг поможет нам на этапе регистрации модели."
   ]
  },
  {
   "cell_type": "code",
   "execution_count": null,
   "metadata": {},
   "outputs": [],
   "source": [
    "runs = {}\n",
    "run_metrics = {}\n",
    "\n",
    "# Create dictionaries containing the runs and the metrics for all runs containing the 'mse' metric\n",
    "for r in tqdm(experiment.get_runs()):\n",
    "    metrics = r.get_metrics()\n",
    "    if 'mse' in metrics.keys():\n",
    "        runs[r.id] = r\n",
    "        run_metrics[r.id] = metrics\n",
    "\n",
    "# Find the run with the best (lowest) mean squared error and display the id and metrics\n",
    "best_run_id = min(run_metrics, key = lambda k: run_metrics[k]['mse'])\n",
    "best_run = runs[best_run_id]\n",
    "print('Best run is:', best_run_id)\n",
    "print('Metrics:', run_metrics[best_run_id])\n",
    "\n",
    "# Tag the best run for identification later\n",
    "best_run.tag(\"Best Run\")"
   ]
  },
  {
   "cell_type": "markdown",
   "metadata": {},
   "source": [
    "---\n",
    "## Реестр моделей\n",
    "После того как мы завершили обучение и выбрали Run содержащий модель с лучшей метрикой, зарегистрируем полученную модель в Azure ML Workspace. Класс [`Model`](https://docs.microsoft.com/en-us/python/api/azureml-core/azureml.core.model(class)?view=azure-ml-py) позволяет работать с реестром моделей внутри Azure ML. При помощи него можно автоматизировать версионирование и деплоймент, создать единый репозитарий моделей внутри компании."
   ]
  },
  {
   "cell_type": "markdown",
   "metadata": {},
   "source": [
    "### Регистрация\n",
    "На предыдущем шаге мы выбрали Run содержащий лучшую модель. Каждый run имеет ассоциированную с ним структуру файлов собранных во время исполнения. Выберем файл представляющий нашу модель. Используем [`run.get_file_names()`](https://docs.microsoft.com/en-us/python/api/azureml-core/azureml.core.run(class)?view=azure-ml-py#get-file-names--) для получения списка всех файлов связанных с Run, и затем метод [`run.register_model()`](https://docs.microsoft.com/en-us/python/api/azureml-core/azureml.core.run(class)?view=azure-ml-py#register-model-model-name--model-path-none--tags-none--properties-none--model-framework-none--model-framework-version-none--description-none--datasets-none--sample-input-dataset-none--sample-output-dataset-none--resource-configuration-none----kwargs-) для регистрации модели внутри реестра моделей Azure ML.\n",
    "\n",
    "При использовании `run.register_model()` необходимо указать `model_name` отражающий особенности нашего эксперимента и `model_path` к модели внутри Run. В данном случае путь будет получен при помощи `run.get_file_names()`."
   ]
  },
  {
   "cell_type": "code",
   "execution_count": null,
   "metadata": {
    "tags": [
     "query history"
    ]
   },
   "outputs": [],
   "source": [
    "# View the files in the run\n",
    "for f in best_run.get_file_names():\n",
    "    print(f)\n",
    "    \n",
    "# Register the model with the workspace\n",
    "model = best_run.register_model(model_name='best_model', model_path='outputs/model.pkl')"
   ]
  },
  {
   "cell_type": "markdown",
   "metadata": {},
   "source": [
    "После регистрации модель становится доступна в реестре моделей Azure ML. При регистрации моделей с одинаковым именем Azure ML автоматически создаст новую версию существующей модели, обеспечив возможность версионирования и отката.  Метод `Model.list()` отобразит все зарегистрированные модели внутри Workspace. Они могут быть отфильтрованы по имени, тэгам, или другим атрибутам модели."
   ]
  },
  {
   "cell_type": "code",
   "execution_count": null,
   "metadata": {
    "tags": [
     "register model from history"
    ]
   },
   "outputs": [],
   "source": [
    "# Find all models called \"best_model\" and display their version numbers\n",
    "from azureml.core.model import Model\n",
    "models = Model.list(ws, name='best_model')\n",
    "for m in models:\n",
    "    print(m.name, m.version)"
   ]
  },
  {
   "cell_type": "markdown",
   "metadata": {},
   "source": [
    "## Полезные ссылки"
   ]
  },
  {
   "cell_type": "markdown",
   "metadata": {},
   "source": [
    "* [Azure Machine Learning Python SDK](https://docs.microsoft.com/en-us/python/api/overview/azure/ml/?view=azure-ml-py)\n",
    "* [Tools included on this VM](https://docs.microsoft.com/en-us/azure/machine-learning/data-science-virtual-machine/tools-included)"
   ]
  }
 ],
 "metadata": {
  "authors": [
   {
    "name": "roastala"
   }
  ],
  "category": "tutorial",
  "compute": [
   "Local"
  ],
  "datasets": [
   "Diabetes"
  ],
  "deployment": [
   "Azure Container Instance"
  ],
  "exclude_from_index": false,
  "framework": [
   "None"
  ],
  "friendly_name": "Train and deploy a model using Python SDK",
  "index_order": 1,
  "kernelspec": {
   "display_name": "azureml_py36_automl",
   "language": "python",
   "name": "conda-env-azureml_py36_automl-py"
  },
  "language_info": {
   "codemirror_mode": {
    "name": "ipython",
    "version": 3
   },
   "file_extension": ".py",
   "mimetype": "text/x-python",
   "name": "python",
   "nbconvert_exporter": "python",
   "pygments_lexer": "ipython3",
   "version": "3.6.9"
  },
  "tags": [
   "None"
  ],
  "task": "Training and deploying a model from a notebook"
 },
 "nbformat": 4,
 "nbformat_minor": 2
}
