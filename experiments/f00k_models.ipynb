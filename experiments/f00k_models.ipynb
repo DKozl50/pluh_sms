{
 "cells": [
  {
   "cell_type": "code",
   "execution_count": 1,
   "metadata": {},
   "outputs": [
    {
     "name": "stdout",
     "output_type": "stream",
     "text": [
      "You are currently using version 1.8.0 of the Azure ML SDK\n",
      "\n",
      "Workspace name: team20\n"
     ]
    }
   ],
   "source": [
    "import azureml.core\n",
    "from azureml.core.authentication import InteractiveLoginAuthentication\n",
    "from azureml.core import Experiment, Workspace\n",
    "\n",
    "# Check core SDK version number\n",
    "print(\"You are currently using version\", azureml.core.VERSION, \"of the Azure ML SDK\")\n",
    "print(\"\")\n",
    "\n",
    "# Log In to Azure ML Workspace\n",
    "interactive_auth = InteractiveLoginAuthentication(tenant_id=\"76f90eb1-fb9a-4446-9875-4d323d6455ad\")\n",
    "\n",
    "ws = Workspace.from_config(auth=interactive_auth)\n",
    "print('Workspace name: ' + ws.name, sep='\\n')"
   ]
  },
  {
   "cell_type": "code",
   "execution_count": 2,
   "metadata": {},
   "outputs": [
    {
     "name": "stderr",
     "output_type": "stream",
     "text": [
      "/anaconda/envs/py37_default/lib/python3.7/site-packages/azureml/dataprep/api/dataflow.py:722: UserWarning: Your pandas and pyarrow versions are incompatible. Please install pyarrow>=0.12.0 for improved performance of to_pandas_dataframe. You can ensure the correct version is installed by running: pip install pyarrow>=0.12.0 --upgrade\n",
      "  warnings.warn('Your pandas and pyarrow versions are incompatible. '\n"
     ]
    }
   ],
   "source": [
    "from azureml.core import Dataset\n",
    "aml_dataset = Dataset.get_by_name(ws, 'train_ds', version='latest')\n",
    "data = aml_dataset.to_pandas_dataframe()"
   ]
  },
  {
   "cell_type": "code",
   "execution_count": 3,
   "metadata": {},
   "outputs": [
    {
     "data": {
      "text/html": [
       "<div>\n",
       "<style scoped>\n",
       "    .dataframe tbody tr th:only-of-type {\n",
       "        vertical-align: middle;\n",
       "    }\n",
       "\n",
       "    .dataframe tbody tr th {\n",
       "        vertical-align: top;\n",
       "    }\n",
       "\n",
       "    .dataframe thead th {\n",
       "        text-align: right;\n",
       "    }\n",
       "</style>\n",
       "<table border=\"1\" class=\"dataframe\">\n",
       "  <thead>\n",
       "    <tr style=\"text-align: right;\">\n",
       "      <th></th>\n",
       "      <th>CardHolder</th>\n",
       "      <th>age</th>\n",
       "      <th>cheque_count_12m_g20</th>\n",
       "      <th>cheque_count_12m_g21</th>\n",
       "      <th>cheque_count_12m_g25</th>\n",
       "      <th>cheque_count_12m_g32</th>\n",
       "      <th>cheque_count_12m_g33</th>\n",
       "      <th>cheque_count_12m_g38</th>\n",
       "      <th>cheque_count_12m_g39</th>\n",
       "      <th>cheque_count_12m_g41</th>\n",
       "      <th>...</th>\n",
       "      <th>sale_sum_6m_g24</th>\n",
       "      <th>sale_sum_6m_g25</th>\n",
       "      <th>sale_sum_6m_g26</th>\n",
       "      <th>sale_sum_6m_g32</th>\n",
       "      <th>sale_sum_6m_g33</th>\n",
       "      <th>sale_sum_6m_g44</th>\n",
       "      <th>sale_sum_6m_g54</th>\n",
       "      <th>stdev_days_between_visits_15d</th>\n",
       "      <th>stdev_discount_depth_15d</th>\n",
       "      <th>stdev_discount_depth_1m</th>\n",
       "    </tr>\n",
       "  </thead>\n",
       "  <tbody>\n",
       "    <tr>\n",
       "      <th>0</th>\n",
       "      <td>16095858</td>\n",
       "      <td>47.0</td>\n",
       "      <td>3.0</td>\n",
       "      <td>22.0</td>\n",
       "      <td>19.0</td>\n",
       "      <td>3.0</td>\n",
       "      <td>28.0</td>\n",
       "      <td>8.0</td>\n",
       "      <td>7.0</td>\n",
       "      <td>6.0</td>\n",
       "      <td>...</td>\n",
       "      <td>3141.25</td>\n",
       "      <td>356.67</td>\n",
       "      <td>237.25</td>\n",
       "      <td>283.84</td>\n",
       "      <td>3648.23</td>\n",
       "      <td>1195.37</td>\n",
       "      <td>535.42</td>\n",
       "      <td>1.7078</td>\n",
       "      <td>0.2798</td>\n",
       "      <td>0.3008</td>\n",
       "    </tr>\n",
       "    <tr>\n",
       "      <th>1</th>\n",
       "      <td>15906620</td>\n",
       "      <td>57.0</td>\n",
       "      <td>1.0</td>\n",
       "      <td>0.0</td>\n",
       "      <td>2.0</td>\n",
       "      <td>1.0</td>\n",
       "      <td>1.0</td>\n",
       "      <td>1.0</td>\n",
       "      <td>0.0</td>\n",
       "      <td>1.0</td>\n",
       "      <td>...</td>\n",
       "      <td>113.39</td>\n",
       "      <td>62.69</td>\n",
       "      <td>58.71</td>\n",
       "      <td>87.01</td>\n",
       "      <td>179.83</td>\n",
       "      <td>0.00</td>\n",
       "      <td>122.98</td>\n",
       "      <td>0.0000</td>\n",
       "      <td>0.0000</td>\n",
       "      <td>0.0000</td>\n",
       "    </tr>\n",
       "    <tr>\n",
       "      <th>2</th>\n",
       "      <td>16495466</td>\n",
       "      <td>38.0</td>\n",
       "      <td>7.0</td>\n",
       "      <td>0.0</td>\n",
       "      <td>15.0</td>\n",
       "      <td>4.0</td>\n",
       "      <td>9.0</td>\n",
       "      <td>5.0</td>\n",
       "      <td>9.0</td>\n",
       "      <td>14.0</td>\n",
       "      <td>...</td>\n",
       "      <td>1239.19</td>\n",
       "      <td>533.46</td>\n",
       "      <td>83.37</td>\n",
       "      <td>593.13</td>\n",
       "      <td>1217.43</td>\n",
       "      <td>1336.83</td>\n",
       "      <td>3709.82</td>\n",
       "      <td>0.0000</td>\n",
       "      <td>NaN</td>\n",
       "      <td>0.0803</td>\n",
       "    </tr>\n",
       "    <tr>\n",
       "      <th>3</th>\n",
       "      <td>16570217</td>\n",
       "      <td>65.0</td>\n",
       "      <td>6.0</td>\n",
       "      <td>3.0</td>\n",
       "      <td>25.0</td>\n",
       "      <td>2.0</td>\n",
       "      <td>10.0</td>\n",
       "      <td>14.0</td>\n",
       "      <td>11.0</td>\n",
       "      <td>8.0</td>\n",
       "      <td>...</td>\n",
       "      <td>139.68</td>\n",
       "      <td>1849.91</td>\n",
       "      <td>360.40</td>\n",
       "      <td>175.73</td>\n",
       "      <td>496.73</td>\n",
       "      <td>172.58</td>\n",
       "      <td>1246.21</td>\n",
       "      <td>0.0000</td>\n",
       "      <td>0.0000</td>\n",
       "      <td>0.0000</td>\n",
       "    </tr>\n",
       "    <tr>\n",
       "      <th>4</th>\n",
       "      <td>16346871</td>\n",
       "      <td>61.0</td>\n",
       "      <td>0.0</td>\n",
       "      <td>1.0</td>\n",
       "      <td>2.0</td>\n",
       "      <td>0.0</td>\n",
       "      <td>2.0</td>\n",
       "      <td>1.0</td>\n",
       "      <td>0.0</td>\n",
       "      <td>3.0</td>\n",
       "      <td>...</td>\n",
       "      <td>226.98</td>\n",
       "      <td>168.05</td>\n",
       "      <td>461.37</td>\n",
       "      <td>0.00</td>\n",
       "      <td>237.93</td>\n",
       "      <td>225.51</td>\n",
       "      <td>995.27</td>\n",
       "      <td>1.4142</td>\n",
       "      <td>0.3495</td>\n",
       "      <td>0.3495</td>\n",
       "    </tr>\n",
       "  </tbody>\n",
       "</table>\n",
       "<p>5 rows × 196 columns</p>\n",
       "</div>"
      ],
      "text/plain": [
       "   CardHolder   age  cheque_count_12m_g20  cheque_count_12m_g21  \\\n",
       "0    16095858  47.0                   3.0                  22.0   \n",
       "1    15906620  57.0                   1.0                   0.0   \n",
       "2    16495466  38.0                   7.0                   0.0   \n",
       "3    16570217  65.0                   6.0                   3.0   \n",
       "4    16346871  61.0                   0.0                   1.0   \n",
       "\n",
       "   cheque_count_12m_g25  cheque_count_12m_g32  cheque_count_12m_g33  \\\n",
       "0                  19.0                   3.0                  28.0   \n",
       "1                   2.0                   1.0                   1.0   \n",
       "2                  15.0                   4.0                   9.0   \n",
       "3                  25.0                   2.0                  10.0   \n",
       "4                   2.0                   0.0                   2.0   \n",
       "\n",
       "   cheque_count_12m_g38  cheque_count_12m_g39  cheque_count_12m_g41  ...  \\\n",
       "0                   8.0                   7.0                   6.0  ...   \n",
       "1                   1.0                   0.0                   1.0  ...   \n",
       "2                   5.0                   9.0                  14.0  ...   \n",
       "3                  14.0                  11.0                   8.0  ...   \n",
       "4                   1.0                   0.0                   3.0  ...   \n",
       "\n",
       "   sale_sum_6m_g24  sale_sum_6m_g25  sale_sum_6m_g26  sale_sum_6m_g32  \\\n",
       "0          3141.25           356.67           237.25           283.84   \n",
       "1           113.39            62.69            58.71            87.01   \n",
       "2          1239.19           533.46            83.37           593.13   \n",
       "3           139.68          1849.91           360.40           175.73   \n",
       "4           226.98           168.05           461.37             0.00   \n",
       "\n",
       "   sale_sum_6m_g33  sale_sum_6m_g44  sale_sum_6m_g54  \\\n",
       "0          3648.23          1195.37           535.42   \n",
       "1           179.83             0.00           122.98   \n",
       "2          1217.43          1336.83          3709.82   \n",
       "3           496.73           172.58          1246.21   \n",
       "4           237.93           225.51           995.27   \n",
       "\n",
       "   stdev_days_between_visits_15d  stdev_discount_depth_15d  \\\n",
       "0                         1.7078                    0.2798   \n",
       "1                         0.0000                    0.0000   \n",
       "2                         0.0000                       NaN   \n",
       "3                         0.0000                    0.0000   \n",
       "4                         1.4142                    0.3495   \n",
       "\n",
       "   stdev_discount_depth_1m  \n",
       "0                   0.3008  \n",
       "1                   0.0000  \n",
       "2                   0.0803  \n",
       "3                   0.0000  \n",
       "4                   0.3495  \n",
       "\n",
       "[5 rows x 196 columns]"
      ]
     },
     "execution_count": 3,
     "metadata": {},
     "output_type": "execute_result"
    }
   ],
   "source": [
    "data.head()"
   ]
  },
  {
   "cell_type": "code",
   "execution_count": 4,
   "metadata": {},
   "outputs": [
    {
     "name": "stderr",
     "output_type": "stream",
     "text": [
      "/anaconda/envs/py37_default/lib/python3.7/site-packages/azureml/dataprep/api/dataflow.py:722: UserWarning: Your pandas and pyarrow versions are incompatible. Please install pyarrow>=0.12.0 for improved performance of to_pandas_dataframe. You can ensure the correct version is installed by running: pip install pyarrow>=0.12.0 --upgrade\n",
      "  warnings.warn('Your pandas and pyarrow versions are incompatible. '\n"
     ]
    }
   ],
   "source": [
    "data = aml_dataset.to_pandas_dataframe()\n",
    "data_backup = data.copy()"
   ]
  },
  {
   "cell_type": "code",
   "execution_count": 5,
   "metadata": {},
   "outputs": [],
   "source": [
    "data = data_backup.copy()"
   ]
  },
  {
   "cell_type": "code",
   "execution_count": 59,
   "metadata": {},
   "outputs": [],
   "source": [
    "import modin.pandas as pd\n",
    "import numpy as np\n",
    "\n",
    "data.set_index('CardHolder', drop=True, inplace=True)\n",
    "data['group'].replace({'test': 1, 'control': 0}, inplace=True)\n",
    "data['gender'].replace({'Ж': 0, 'М': 1, 'Не определен': np.NaN}, inplace=True)"
   ]
  },
  {
   "cell_type": "code",
   "execution_count": 14,
   "metadata": {},
   "outputs": [],
   "source": [
    "import xgboost\n",
    "from sklearn.model_selection import train_test_split\n",
    "\n",
    "train, test = train_test_split(data, test_size=0.2, stratify=data['response_att'],\n",
    "                                   shuffle=True)\n"
   ]
  },
  {
   "cell_type": "code",
   "execution_count": 17,
   "metadata": {},
   "outputs": [],
   "source": [
    "params = {'n_estimators': 20, 'eval_metric': ['logloss', 'auc', 'error'], 'verbose': True, 'n_jobs': -1}\n",
    "model = xgboost.XGBClassifier(**params)\n",
    "\n",
    "X_train = train.drop('response_att', axis=1)\n",
    "y_train = train['response_att']\n",
    "\n",
    "X_test = test.drop('response_att', axis=1)\n",
    "y_test = test['response_att']"
   ]
  },
  {
   "cell_type": "code",
   "execution_count": 18,
   "metadata": {},
   "outputs": [
    {
     "name": "stdout",
     "output_type": "stream",
     "text": [
      "[0]\tvalidation_0-logloss:0.630031\tvalidation_0-auc:0.766055\tvalidation_0-error:0.105963\n",
      "[1]\tvalidation_0-logloss:0.578451\tvalidation_0-auc:0.774827\tvalidation_0-error:0.105869\n",
      "[2]\tvalidation_0-logloss:0.535591\tvalidation_0-auc:0.775505\tvalidation_0-error:0.105694\n",
      "[3]\tvalidation_0-logloss:0.499767\tvalidation_0-auc:0.780539\tvalidation_0-error:0.104879\n",
      "[4]\tvalidation_0-logloss:0.469424\tvalidation_0-auc:0.783665\tvalidation_0-error:0.104843\n",
      "[5]\tvalidation_0-logloss:0.443672\tvalidation_0-auc:0.784574\tvalidation_0-error:0.10485\n",
      "[6]\tvalidation_0-logloss:0.42176\tvalidation_0-auc:0.784848\tvalidation_0-error:0.105025\n",
      "[7]\tvalidation_0-logloss:0.402891\tvalidation_0-auc:0.784957\tvalidation_0-error:0.105003\n",
      "[8]\tvalidation_0-logloss:0.386719\tvalidation_0-auc:0.785164\tvalidation_0-error:0.104792\n",
      "[9]\tvalidation_0-logloss:0.372762\tvalidation_0-auc:0.784819\tvalidation_0-error:0.104864\n",
      "[10]\tvalidation_0-logloss:0.36075\tvalidation_0-auc:0.784801\tvalidation_0-error:0.104886\n",
      "[11]\tvalidation_0-logloss:0.350381\tvalidation_0-auc:0.784863\tvalidation_0-error:0.104908\n",
      "[12]\tvalidation_0-logloss:0.341402\tvalidation_0-auc:0.784936\tvalidation_0-error:0.104777\n",
      "[13]\tvalidation_0-logloss:0.333601\tvalidation_0-auc:0.786996\tvalidation_0-error:0.104901\n",
      "[14]\tvalidation_0-logloss:0.326877\tvalidation_0-auc:0.787076\tvalidation_0-error:0.104872\n",
      "[15]\tvalidation_0-logloss:0.321023\tvalidation_0-auc:0.787836\tvalidation_0-error:0.104697\n",
      "[16]\tvalidation_0-logloss:0.315956\tvalidation_0-auc:0.788047\tvalidation_0-error:0.104755\n",
      "[17]\tvalidation_0-logloss:0.311584\tvalidation_0-auc:0.788254\tvalidation_0-error:0.104777\n",
      "[18]\tvalidation_0-logloss:0.307782\tvalidation_0-auc:0.788554\tvalidation_0-error:0.104813\n",
      "[19]\tvalidation_0-logloss:0.304459\tvalidation_0-auc:0.788938\tvalidation_0-error:0.104632\n"
     ]
    },
    {
     "data": {
      "text/plain": [
       "XGBClassifier(eval_metric=['logloss', 'auc', 'error'], n_estimators=20,\n",
       "              n_jobs=-1, verbose=True)"
      ]
     },
     "execution_count": 18,
     "metadata": {},
     "output_type": "execute_result"
    }
   ],
   "source": [
    "model.fit(X_train, y_train, verbose=True, eval_set=[(X_test, y_test)])"
   ]
  },
  {
   "cell_type": "code",
   "execution_count": 23,
   "metadata": {},
   "outputs": [],
   "source": [
    "def importances(train, model):\n",
    "    cols = list(train.drop('response_att', axis=1).columns)\n",
    "\n",
    "    feats = pd.Series(data=model.feature_importances_, index=cols) \n",
    "    feats.sort_values(ascending=False, inplace=True)\n",
    "    print(feats.head(20))"
   ]
  },
  {
   "cell_type": "code",
   "execution_count": 24,
   "metadata": {},
   "outputs": [
    {
     "name": "stdout",
     "output_type": "stream",
     "text": [
      "k_var_days_between_visits_1m           0.317405\n",
      "perdelta_days_between_visits_15_30d    0.212026\n",
      "k_var_days_between_visits_15d          0.152806\n",
      "stdev_days_between_visits_15d          0.049486\n",
      "k_var_days_between_visits_3m           0.042280\n",
      "cheque_count_6m_g40                    0.034235\n",
      "cheque_count_6m_g32                    0.028553\n",
      "cheque_count_12m_sum                   0.028277\n",
      "cheque_count_6m_g41                    0.018373\n",
      "cheques_per_child                      0.016887\n",
      "k_var_disc_share_3m_g24                0.016651\n",
      "cheque_count_12m_g48                   0.013941\n",
      "food_share_1m                          0.013861\n",
      "cheque_count_6m_g25                    0.012009\n",
      "cheque_count_12m_g32                   0.011357\n",
      "months_from_register                   0.008419\n",
      "k_var_disc_per_cheque_15d              0.008339\n",
      "food_share_15d                         0.007714\n",
      "k_var_sku_price_6m_max                 0.007381\n",
      "k_var_count_per_cheque_1m_g24          0.000000\n",
      "dtype: float32\n"
     ]
    }
   ],
   "source": [
    "importances(train, model)"
   ]
  },
  {
   "cell_type": "code",
   "execution_count": 29,
   "metadata": {},
   "outputs": [],
   "source": [
    "pred = model.predict_proba(X_test)"
   ]
  },
  {
   "cell_type": "code",
   "execution_count": 31,
   "metadata": {},
   "outputs": [
    {
     "data": {
      "text/plain": [
       "<matplotlib.axes._subplots.AxesSubplot at 0x7f5ea5463810>"
      ]
     },
     "execution_count": 31,
     "metadata": {},
     "output_type": "execute_result"
    },
    {
     "data": {
      "image/png": "[encoded data removed]",
      "text/plain": [
       "<Figure size 432x288 with 1 Axes>"
      ]
     },
     "metadata": {
      "needs_background": "light"
     },
     "output_type": "display_data"
    }
   ],
   "source": [
    "import seaborn as sns\n",
    "sns.distplot(pred[:,1])"
   ]
  },
  {
   "cell_type": "code",
   "execution_count": 36,
   "metadata": {},
   "outputs": [],
   "source": [
    "train1 = X_train[y_train == 1]\n",
    "train0 = X_train[y_train == 0]"
   ]
  },
  {
   "cell_type": "code",
   "execution_count": 63,
   "metadata": {},
   "outputs": [
    {
     "name": "stderr",
     "output_type": "stream",
     "text": [
      "UserWarning: Distributing <class 'numpy.ndarray'> object. This may take some time.\n"
     ]
    },
    {
     "data": {
      "text/plain": [
       "k_var_days_between_visits_15d          0.466894\n",
       "k_var_days_between_visits_1m           0.211764\n",
       "perdelta_days_between_visits_15_30d    0.145268\n",
       "stdev_days_between_visits_15d          0.053817\n",
       "cheque_count_6m_g40                    0.036728\n",
       "k_var_days_between_visits_3m           0.032206\n",
       "cheque_count_12m_g32                   0.016181\n",
       "cheque_count_6m_g48                    0.015134\n",
       "cheque_count_12m_g48                   0.014948\n",
       "k_var_cheque_15d                       0.007059\n",
       "k_var_sku_price_1m_g49                 0.000000\n",
       "k_var_sku_price_1m_g54                 0.000000\n",
       "k_var_sku_price_1m_g44                 0.000000\n",
       "k_var_sku_price_3m_g24                 0.000000\n",
       "k_var_sku_price_3m_g26                 0.000000\n",
       "dtype: float32"
      ]
     },
     "execution_count": 63,
     "metadata": {},
     "output_type": "execute_result"
    }
   ],
   "source": [
    "cols = list(train.drop('response_att', axis=1).columns)\n",
    "\n",
    "feats = pd.Series(data=model.feature_importances_, index=cols) \n",
    "feats.sort_values(ascending=False, inplace=True)\n",
    "feats.head(15)"
   ]
  },
  {
   "cell_type": "code",
   "execution_count": 9,
   "metadata": {},
   "outputs": [],
   "source": [
    "import sys\n",
    "sys.path.append('../features')"
   ]
  },
  {
   "cell_type": "code",
   "execution_count": 10,
   "metadata": {},
   "outputs": [],
   "source": [
    "from functions import preprocessing"
   ]
  },
  {
   "cell_type": "code",
   "execution_count": 69,
   "metadata": {},
   "outputs": [],
   "source": [
    "data = data_backup.copy()"
   ]
  },
  {
   "cell_type": "code",
   "execution_count": 12,
   "metadata": {},
   "outputs": [],
   "source": [
    "import numpy as np\n",
    "import pandas as pd"
   ]
  },
  {
   "cell_type": "code",
   "execution_count": 13,
   "metadata": {},
   "outputs": [],
   "source": [
    "data = data_backup.copy()\n",
    "full_prep(data)"
   ]
  },
  {
   "cell_type": "code",
   "execution_count": 6,
   "metadata": {},
   "outputs": [],
   "source": [
    "def full_prep(data):\n",
    "    preprocessing(data)\n",
    "    data['group'].replace({'test': 1, 'control': 0}, inplace=True)\n",
    "    data['gender'].replace({'Ж': 0, 'М': 1, 'Не определен': np.NaN}, inplace=True)"
   ]
  },
  {
   "cell_type": "code",
   "execution_count": 27,
   "metadata": {},
   "outputs": [
    {
     "data": {
      "text/plain": [
       "0         1\n",
       "1         1\n",
       "2         0\n",
       "3         1\n",
       "4         1\n",
       "         ..\n",
       "687024    0\n",
       "687025    1\n",
       "687026    0\n",
       "687027    0\n",
       "687028    1\n",
       "Name: group, Length: 687029, dtype: int64"
      ]
     },
     "execution_count": 27,
     "metadata": {},
     "output_type": "execute_result"
    }
   ],
   "source": [
    "data['group']"
   ]
  },
  {
   "cell_type": "code",
   "execution_count": 28,
   "metadata": {},
   "outputs": [],
   "source": [
    "data['class'] = 0\n",
    "data.loc[(data['group'] == 0) & (data['response_att'] == 1), 'class'] = 1\n",
    "data.loc[(data['group'] == 1) & (data['response_att'] == 0), 'class'] = 2\n",
    "data.loc[(data['group'] == 1) & (data['response_att'] == 1), 'class'] = 3"
   ]
  },
  {
   "cell_type": "code",
   "execution_count": 40,
   "metadata": {},
   "outputs": [],
   "source": [
    "#y = data['class']\n",
    "#data.drop(['group', 'response_att', 'class'], axis=1, inplace=True)\n",
    "\n",
    "x_train, x_test, y_train, y_test = train_test_split(data, y)"
   ]
  },
  {
   "cell_type": "code",
   "execution_count": 38,
   "metadata": {},
   "outputs": [
    {
     "data": {
      "text/plain": [
       "(171758,)"
      ]
     },
     "execution_count": 38,
     "metadata": {},
     "output_type": "execute_result"
    }
   ],
   "source": [
    "y_test.shape"
   ]
  },
  {
   "cell_type": "code",
   "execution_count": 42,
   "metadata": {},
   "outputs": [
    {
     "name": "stdout",
     "output_type": "stream",
     "text": [
      "[0]\tvalidation_0-merror:0.331053\tvalidation_0-mlogloss:1.31556\n",
      "[1]\tvalidation_0-merror:0.327205\tvalidation_0-mlogloss:1.25633\n",
      "[2]\tvalidation_0-merror:0.323688\tvalidation_0-mlogloss:1.20557\n",
      "[3]\tvalidation_0-merror:0.323199\tvalidation_0-mlogloss:1.16216\n",
      "[4]\tvalidation_0-merror:0.323135\tvalidation_0-mlogloss:1.12503\n",
      "[5]\tvalidation_0-merror:0.323199\tvalidation_0-mlogloss:1.09279\n",
      "[6]\tvalidation_0-merror:0.322978\tvalidation_0-mlogloss:1.06471\n",
      "[7]\tvalidation_0-merror:0.322949\tvalidation_0-mlogloss:1.04022\n",
      "[8]\tvalidation_0-merror:0.322949\tvalidation_0-mlogloss:1.01869\n",
      "[9]\tvalidation_0-merror:0.322809\tvalidation_0-mlogloss:0.999763\n",
      "[10]\tvalidation_0-merror:0.322547\tvalidation_0-mlogloss:0.983014\n",
      "[11]\tvalidation_0-merror:0.322553\tvalidation_0-mlogloss:0.96819\n",
      "[12]\tvalidation_0-merror:0.322227\tvalidation_0-mlogloss:0.954936\n",
      "[13]\tvalidation_0-merror:0.322168\tvalidation_0-mlogloss:0.943311\n",
      "[14]\tvalidation_0-merror:0.322203\tvalidation_0-mlogloss:0.932988\n",
      "[15]\tvalidation_0-merror:0.322104\tvalidation_0-mlogloss:0.923779\n",
      "[16]\tvalidation_0-merror:0.322023\tvalidation_0-mlogloss:0.915551\n",
      "[17]\tvalidation_0-merror:0.322081\tvalidation_0-mlogloss:0.908192\n",
      "[18]\tvalidation_0-merror:0.321761\tvalidation_0-mlogloss:0.901477\n",
      "[19]\tvalidation_0-merror:0.321761\tvalidation_0-mlogloss:0.895571\n"
     ]
    },
    {
     "data": {
      "text/plain": [
       "XGBClassifier(eval_metric=['merror', 'mlogloss'], n_estimators=20, n_jobs=-1,\n",
       "              objective='multi:softprob', verbose=True)"
      ]
     },
     "execution_count": 42,
     "metadata": {},
     "output_type": "execute_result"
    }
   ],
   "source": [
    "params = {'n_estimators': 20, 'eval_metric': ['merror', 'mlogloss'], 'verbose': True, 'n_jobs': -1}\n",
    "model = xgboost.XGBClassifier(**params)\n",
    "\n",
    "model.fit(x_train, y_train, verbose=True, eval_set=[(x_test, y_test)])"
   ]
  },
  {
   "cell_type": "code",
   "execution_count": 44,
   "metadata": {},
   "outputs": [],
   "source": [
    "pred = model.predict_proba(x_test)"
   ]
  },
  {
   "cell_type": "code",
   "execution_count": 46,
   "metadata": {},
   "outputs": [],
   "source": [
    "final = pred[:,3] + pred[:,0] - pred[:,1] - pred[:,2]"
   ]
  },
  {
   "cell_type": "code",
   "execution_count": 51,
   "metadata": {
    "collapsed": true
   },
   "outputs": [
    {
     "name": "stderr",
     "output_type": "stream",
     "text": [
      "/anaconda/envs/py37_default/lib/python3.7/site-packages/pandas/core/generic.py:6746: SettingWithCopyWarning: \n",
      "A value is trying to be set on a copy of a slice from a DataFrame\n",
      "\n",
      "See the caveats in the documentation: https://pandas.pydata.org/pandas-docs/stable/user_guide/indexing.html#returning-a-view-versus-a-copy\n",
      "  self._update_inplace(new_data)\n"
     ]
    },
    {
     "ename": "ValueError",
     "evalue": "Length of values does not match length of index",
     "output_type": "error",
     "traceback": [
      "\u001b[0;31m---------------------------------------------------------------------------\u001b[0m",
      "\u001b[0;31mValueError\u001b[0m                                Traceback (most recent call last)",
      "\u001b[0;32m<ipython-input-51-7bf42d6b0ef6>\u001b[0m in \u001b[0;36m<module>\u001b[0;34m\u001b[0m\n\u001b[1;32m      1\u001b[0m \u001b[0mtest\u001b[0m\u001b[0;34m[\u001b[0m\u001b[0;34m'group'\u001b[0m\u001b[0;34m]\u001b[0m\u001b[0;34m.\u001b[0m\u001b[0mreplace\u001b[0m\u001b[0;34m(\u001b[0m\u001b[0;34m{\u001b[0m\u001b[0;36m1\u001b[0m\u001b[0;34m:\u001b[0m \u001b[0;34m'test'\u001b[0m\u001b[0;34m,\u001b[0m \u001b[0;36m0\u001b[0m\u001b[0;34m:\u001b[0m \u001b[0;34m'control'\u001b[0m\u001b[0;34m}\u001b[0m\u001b[0;34m,\u001b[0m \u001b[0minplace\u001b[0m\u001b[0;34m=\u001b[0m\u001b[0;32mTrue\u001b[0m\u001b[0;34m)\u001b[0m\u001b[0;34m\u001b[0m\u001b[0;34m\u001b[0m\u001b[0m\n\u001b[0;32m----> 2\u001b[0;31m \u001b[0mtest\u001b[0m\u001b[0;34m[\u001b[0m\u001b[0;34m'uplift'\u001b[0m\u001b[0;34m]\u001b[0m \u001b[0;34m=\u001b[0m \u001b[0mfinal\u001b[0m\u001b[0;34m\u001b[0m\u001b[0;34m\u001b[0m\u001b[0m\n\u001b[0m",
      "\u001b[0;32m/anaconda/envs/py37_default/lib/python3.7/site-packages/pandas/core/frame.py\u001b[0m in \u001b[0;36m__setitem__\u001b[0;34m(self, key, value)\u001b[0m\n\u001b[1;32m   2936\u001b[0m         \u001b[0;32melse\u001b[0m\u001b[0;34m:\u001b[0m\u001b[0;34m\u001b[0m\u001b[0;34m\u001b[0m\u001b[0m\n\u001b[1;32m   2937\u001b[0m             \u001b[0;31m# set column\u001b[0m\u001b[0;34m\u001b[0m\u001b[0;34m\u001b[0m\u001b[0;34m\u001b[0m\u001b[0m\n\u001b[0;32m-> 2938\u001b[0;31m             \u001b[0mself\u001b[0m\u001b[0;34m.\u001b[0m\u001b[0m_set_item\u001b[0m\u001b[0;34m(\u001b[0m\u001b[0mkey\u001b[0m\u001b[0;34m,\u001b[0m \u001b[0mvalue\u001b[0m\u001b[0;34m)\u001b[0m\u001b[0;34m\u001b[0m\u001b[0;34m\u001b[0m\u001b[0m\n\u001b[0m\u001b[1;32m   2939\u001b[0m \u001b[0;34m\u001b[0m\u001b[0m\n\u001b[1;32m   2940\u001b[0m     \u001b[0;32mdef\u001b[0m \u001b[0m_setitem_slice\u001b[0m\u001b[0;34m(\u001b[0m\u001b[0mself\u001b[0m\u001b[0;34m,\u001b[0m \u001b[0mkey\u001b[0m\u001b[0;34m,\u001b[0m \u001b[0mvalue\u001b[0m\u001b[0;34m)\u001b[0m\u001b[0;34m:\u001b[0m\u001b[0;34m\u001b[0m\u001b[0;34m\u001b[0m\u001b[0m\n",
      "\u001b[0;32m/anaconda/envs/py37_default/lib/python3.7/site-packages/pandas/core/frame.py\u001b[0m in \u001b[0;36m_set_item\u001b[0;34m(self, key, value)\u001b[0m\n\u001b[1;32m   2998\u001b[0m \u001b[0;34m\u001b[0m\u001b[0m\n\u001b[1;32m   2999\u001b[0m         \u001b[0mself\u001b[0m\u001b[0;34m.\u001b[0m\u001b[0m_ensure_valid_index\u001b[0m\u001b[0;34m(\u001b[0m\u001b[0mvalue\u001b[0m\u001b[0;34m)\u001b[0m\u001b[0;34m\u001b[0m\u001b[0;34m\u001b[0m\u001b[0m\n\u001b[0;32m-> 3000\u001b[0;31m         \u001b[0mvalue\u001b[0m \u001b[0;34m=\u001b[0m \u001b[0mself\u001b[0m\u001b[0;34m.\u001b[0m\u001b[0m_sanitize_column\u001b[0m\u001b[0;34m(\u001b[0m\u001b[0mkey\u001b[0m\u001b[0;34m,\u001b[0m \u001b[0mvalue\u001b[0m\u001b[0;34m)\u001b[0m\u001b[0;34m\u001b[0m\u001b[0;34m\u001b[0m\u001b[0m\n\u001b[0m\u001b[1;32m   3001\u001b[0m         \u001b[0mNDFrame\u001b[0m\u001b[0;34m.\u001b[0m\u001b[0m_set_item\u001b[0m\u001b[0;34m(\u001b[0m\u001b[0mself\u001b[0m\u001b[0;34m,\u001b[0m \u001b[0mkey\u001b[0m\u001b[0;34m,\u001b[0m \u001b[0mvalue\u001b[0m\u001b[0;34m)\u001b[0m\u001b[0;34m\u001b[0m\u001b[0;34m\u001b[0m\u001b[0m\n\u001b[1;32m   3002\u001b[0m \u001b[0;34m\u001b[0m\u001b[0m\n",
      "\u001b[0;32m/anaconda/envs/py37_default/lib/python3.7/site-packages/pandas/core/frame.py\u001b[0m in \u001b[0;36m_sanitize_column\u001b[0;34m(self, key, value, broadcast)\u001b[0m\n\u001b[1;32m   3634\u001b[0m \u001b[0;34m\u001b[0m\u001b[0m\n\u001b[1;32m   3635\u001b[0m             \u001b[0;31m# turn me into an ndarray\u001b[0m\u001b[0;34m\u001b[0m\u001b[0;34m\u001b[0m\u001b[0;34m\u001b[0m\u001b[0m\n\u001b[0;32m-> 3636\u001b[0;31m             \u001b[0mvalue\u001b[0m \u001b[0;34m=\u001b[0m \u001b[0msanitize_index\u001b[0m\u001b[0;34m(\u001b[0m\u001b[0mvalue\u001b[0m\u001b[0;34m,\u001b[0m \u001b[0mself\u001b[0m\u001b[0;34m.\u001b[0m\u001b[0mindex\u001b[0m\u001b[0;34m,\u001b[0m \u001b[0mcopy\u001b[0m\u001b[0;34m=\u001b[0m\u001b[0;32mFalse\u001b[0m\u001b[0;34m)\u001b[0m\u001b[0;34m\u001b[0m\u001b[0;34m\u001b[0m\u001b[0m\n\u001b[0m\u001b[1;32m   3637\u001b[0m             \u001b[0;32mif\u001b[0m \u001b[0;32mnot\u001b[0m \u001b[0misinstance\u001b[0m\u001b[0;34m(\u001b[0m\u001b[0mvalue\u001b[0m\u001b[0;34m,\u001b[0m \u001b[0;34m(\u001b[0m\u001b[0mnp\u001b[0m\u001b[0;34m.\u001b[0m\u001b[0mndarray\u001b[0m\u001b[0;34m,\u001b[0m \u001b[0mIndex\u001b[0m\u001b[0;34m)\u001b[0m\u001b[0;34m)\u001b[0m\u001b[0;34m:\u001b[0m\u001b[0;34m\u001b[0m\u001b[0;34m\u001b[0m\u001b[0m\n\u001b[1;32m   3638\u001b[0m                 \u001b[0;32mif\u001b[0m \u001b[0misinstance\u001b[0m\u001b[0;34m(\u001b[0m\u001b[0mvalue\u001b[0m\u001b[0;34m,\u001b[0m \u001b[0mlist\u001b[0m\u001b[0;34m)\u001b[0m \u001b[0;32mand\u001b[0m \u001b[0mlen\u001b[0m\u001b[0;34m(\u001b[0m\u001b[0mvalue\u001b[0m\u001b[0;34m)\u001b[0m \u001b[0;34m>\u001b[0m \u001b[0;36m0\u001b[0m\u001b[0;34m:\u001b[0m\u001b[0;34m\u001b[0m\u001b[0;34m\u001b[0m\u001b[0m\n",
      "\u001b[0;32m/anaconda/envs/py37_default/lib/python3.7/site-packages/pandas/core/internals/construction.py\u001b[0m in \u001b[0;36msanitize_index\u001b[0;34m(data, index, copy)\u001b[0m\n\u001b[1;32m    609\u001b[0m \u001b[0;34m\u001b[0m\u001b[0m\n\u001b[1;32m    610\u001b[0m     \u001b[0;32mif\u001b[0m \u001b[0mlen\u001b[0m\u001b[0;34m(\u001b[0m\u001b[0mdata\u001b[0m\u001b[0;34m)\u001b[0m \u001b[0;34m!=\u001b[0m \u001b[0mlen\u001b[0m\u001b[0;34m(\u001b[0m\u001b[0mindex\u001b[0m\u001b[0;34m)\u001b[0m\u001b[0;34m:\u001b[0m\u001b[0;34m\u001b[0m\u001b[0;34m\u001b[0m\u001b[0m\n\u001b[0;32m--> 611\u001b[0;31m         \u001b[0;32mraise\u001b[0m \u001b[0mValueError\u001b[0m\u001b[0;34m(\u001b[0m\u001b[0;34m\"Length of values does not match length of index\"\u001b[0m\u001b[0;34m)\u001b[0m\u001b[0;34m\u001b[0m\u001b[0;34m\u001b[0m\u001b[0m\n\u001b[0m\u001b[1;32m    612\u001b[0m \u001b[0;34m\u001b[0m\u001b[0m\n\u001b[1;32m    613\u001b[0m     \u001b[0;32mif\u001b[0m \u001b[0misinstance\u001b[0m\u001b[0;34m(\u001b[0m\u001b[0mdata\u001b[0m\u001b[0;34m,\u001b[0m \u001b[0mABCIndexClass\u001b[0m\u001b[0;34m)\u001b[0m \u001b[0;32mand\u001b[0m \u001b[0;32mnot\u001b[0m \u001b[0mcopy\u001b[0m\u001b[0;34m:\u001b[0m\u001b[0;34m\u001b[0m\u001b[0;34m\u001b[0m\u001b[0m\n",
      "\u001b[0;31mValueError\u001b[0m: Length of values does not match length of index"
     ]
    }
   ],
   "source": [
    "test['group'].replace({1: 'test', 0: 'control'}, inplace=True)\n",
    "test['uplift'] = final"
   ]
  },
  {
   "cell_type": "code",
   "execution_count": 60,
   "metadata": {},
   "outputs": [
    {
     "name": "stdout",
     "output_type": "stream",
     "text": [
      "[0]\tvalidation_0-merror:0.320585\tvalidation_0-mlogloss:1.31485\n",
      "[1]\tvalidation_0-merror:0.320812\tvalidation_0-mlogloss:1.25548\n",
      "[2]\tvalidation_0-merror:0.319991\tvalidation_0-mlogloss:1.20466\n",
      "[3]\tvalidation_0-merror:0.320003\tvalidation_0-mlogloss:1.16152\n",
      "[4]\tvalidation_0-merror:0.32087\tvalidation_0-mlogloss:1.12428\n",
      "[5]\tvalidation_0-merror:0.319985\tvalidation_0-mlogloss:1.09195\n",
      "[6]\tvalidation_0-merror:0.321342\tvalidation_0-mlogloss:1.06382\n",
      "[7]\tvalidation_0-merror:0.321342\tvalidation_0-mlogloss:1.03921\n",
      "[8]\tvalidation_0-merror:0.32151\tvalidation_0-mlogloss:1.01759\n",
      "[9]\tvalidation_0-merror:0.321505\tvalidation_0-mlogloss:0.998535\n",
      "[10]\tvalidation_0-merror:0.32151\tvalidation_0-mlogloss:0.981738\n",
      "[11]\tvalidation_0-merror:0.321551\tvalidation_0-mlogloss:0.966857\n",
      "[12]\tvalidation_0-merror:0.321289\tvalidation_0-mlogloss:0.953579\n",
      "[13]\tvalidation_0-merror:0.321295\tvalidation_0-mlogloss:0.941866\n",
      "[14]\tvalidation_0-merror:0.321289\tvalidation_0-mlogloss:0.931473\n",
      "[15]\tvalidation_0-merror:0.321313\tvalidation_0-mlogloss:0.922175\n",
      "[16]\tvalidation_0-merror:0.321033\tvalidation_0-mlogloss:0.913865\n",
      "[17]\tvalidation_0-merror:0.321027\tvalidation_0-mlogloss:0.906437\n",
      "[18]\tvalidation_0-merror:0.320952\tvalidation_0-mlogloss:0.899786\n",
      "[19]\tvalidation_0-merror:0.320888\tvalidation_0-mlogloss:0.893793\n"
     ]
    },
    {
     "data": {
      "text/plain": [
       "XGBClassifier(eval_metric=['merror', 'mlogloss'], n_estimators=20, n_jobs=-1,\n",
       "              objective='multi:softprob', verbose=True)"
      ]
     },
     "execution_count": 60,
     "metadata": {},
     "output_type": "execute_result"
    }
   ],
   "source": [
    "data = data_backup.copy()\n",
    "data['gender'].replace({'Ж': 0, 'М': 1, 'Не определен': np.NaN}, inplace=True)\n",
    "data['class'] = 0\n",
    "data.loc[(data['group'] == 'control') & (data['response_att'] == 1), 'class'] = 1\n",
    "data.loc[(data['group'] == 'test') & (data['response_att'] == 0), 'class'] = 2\n",
    "data.loc[(data['group'] == 'test') & (data['response_att'] == 1), 'class'] = 3\n",
    "\n",
    "train, test = train_test_split(data)\n",
    "\n",
    "x_train = train.drop(['class', 'group', 'response_att'], axis=1)\n",
    "y_train = train['class']\n",
    "\n",
    "x_test = test.drop(['class', 'group', 'response_att'], axis=1)\n",
    "y_test = test['class']\n",
    "\n",
    "params = {'n_estimators': 20, 'eval_metric': ['merror', 'mlogloss'], 'verbose': True, 'n_jobs': -1}\n",
    "model = xgboost.XGBClassifier(**params)\n",
    "\n",
    "model.fit(x_train, y_train, verbose=True, eval_set=[(x_test, y_test)])"
   ]
  },
  {
   "cell_type": "code",
   "execution_count": 61,
   "metadata": {},
   "outputs": [
    {
     "name": "stderr",
     "output_type": "stream",
     "text": [
      "/anaconda/envs/py37_default/lib/python3.7/site-packages/ipykernel_launcher.py:3: SettingWithCopyWarning: \n",
      "A value is trying to be set on a copy of a slice from a DataFrame.\n",
      "Try using .loc[row_indexer,col_indexer] = value instead\n",
      "\n",
      "See the caveats in the documentation: https://pandas.pydata.org/pandas-docs/stable/user_guide/indexing.html#returning-a-view-versus-a-copy\n",
      "  This is separate from the ipykernel package so we can avoid doing imports until\n"
     ]
    }
   ],
   "source": [
    "pred = model.predict_proba(x_test)\n",
    "final = pred[:,3] + pred[:,0] - pred[:,1] - pred[:,2]\n",
    "test['uplift'] = final"
   ]
  },
  {
   "cell_type": "code",
   "execution_count": 63,
   "metadata": {},
   "outputs": [],
   "source": [
    "import sys\n",
    "sys.path.append('../scripts')\n",
    "from metrics import custom_metric"
   ]
  },
  {
   "cell_type": "code",
   "execution_count": 64,
   "metadata": {},
   "outputs": [
    {
     "data": {
      "text/plain": [
       "6.464336211895954"
      ]
     },
     "execution_count": 64,
     "metadata": {},
     "output_type": "execute_result"
    }
   ],
   "source": [
    "custom_metric(test)"
   ]
  },
  {
   "cell_type": "code",
   "execution_count": 71,
   "metadata": {},
   "outputs": [],
   "source": [
    "def importances(train, model):\n",
    "    cols = list(train.columns)\n",
    "\n",
    "    feats = pd.Series(data=model.feature_importances_, index=cols) \n",
    "    feats.sort_values(ascending=False, inplace=True)\n",
    "    print(feats.head(25))"
   ]
  },
  {
   "cell_type": "code",
   "execution_count": 72,
   "metadata": {},
   "outputs": [
    {
     "name": "stdout",
     "output_type": "stream",
     "text": [
      "k_var_days_between_visits_1m           0.190099\n",
      "response_viber                         0.142705\n",
      "k_var_days_between_visits_15d          0.100051\n",
      "perdelta_days_between_visits_15_30d    0.069832\n",
      "sale_count_12m_g49                     0.053138\n",
      "response_sms                           0.040291\n",
      "k_var_disc_share_6m_g49                0.030202\n",
      "k_var_days_between_visits_3m           0.029075\n",
      "k_var_sku_price_6m_g27                 0.024187\n",
      "cheque_count_12m_g41                   0.021698\n",
      "cheque_count_6m_g32                    0.021175\n",
      "cheque_count_6m_g40                    0.020202\n",
      "k_var_count_per_cheque_3m_g24          0.019731\n",
      "cheque_count_12m_g48                   0.017191\n",
      "stdev_days_between_visits_15d          0.016905\n",
      "k_var_sku_price_6m_g44                 0.016467\n",
      "cheque_count_6m_g41                    0.015287\n",
      "k_var_cheque_3m                        0.012473\n",
      "cheque_count_6m_g48                    0.012210\n",
      "cheque_count_12m_g25                   0.012057\n",
      "k_var_disc_share_6m_g27                0.012023\n",
      "k_var_sku_price_3m_g34                 0.012022\n",
      "cheque_count_12m_g38                   0.011086\n",
      "food_share_1m                          0.009060\n",
      "cheque_count_12m_g33                   0.008583\n",
      "dtype: float32\n"
     ]
    }
   ],
   "source": [
    "importances(x_train, model)"
   ]
  }
 ],
 "metadata": {
  "kernelspec": {
   "display_name": "py37_default",
   "language": "python",
   "name": "conda-env-py37_default-py"
  },
  "language_info": {
   "codemirror_mode": {
    "name": "ipython",
    "version": 3
   },
   "file_extension": ".py",
   "mimetype": "text/x-python",
   "name": "python",
   "nbconvert_exporter": "python",
   "pygments_lexer": "ipython3",
   "version": "3.7.7"
  }
 },
 "nbformat": 4,
 "nbformat_minor": 4
}
