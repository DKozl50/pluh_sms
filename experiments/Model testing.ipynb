{
 "cells": [
  {
   "cell_type": "code",
   "execution_count": 1,
   "metadata": {
    "scrolled": true
   },
   "outputs": [],
   "source": [
    "import pandas as pd\n",
    "import numpy as np\n",
    "import matplotlib.pyplot as plt\n",
    "import seaborn as sns\n",
    "\n",
    "from sklearn.model_selection import KFold\n",
    "from sklearn import linear_model, metrics, preprocessing\n",
    "from sklearn.model_selection import KFold, train_test_split\n",
    "import xgboost\n",
    "\n",
    "import azureml.core\n",
    "from azureml.core import Dataset\n",
    "from azureml.core.authentication import InteractiveLoginAuthentication\n",
    "from azureml.core import Experiment, Workspace\n",
    "\n",
    "import sys\n",
    "sys.path.append('../')\n",
    "sys.path.append('../scripts/')"
   ]
  },
  {
   "cell_type": "code",
   "execution_count": 2,
   "metadata": {
    "scrolled": true
   },
   "outputs": [
    {
     "name": "stderr",
     "output_type": "stream",
     "text": [
      "/anaconda/envs/py37_default/lib/python3.7/site-packages/azureml/dataprep/api/dataflow.py:722: UserWarning: Your pandas and pyarrow versions are incompatible. Please install pyarrow>=0.12.0 for improved performance of to_pandas_dataframe. You can ensure the correct version is installed by running: pip install pyarrow>=0.12.0 --upgrade\n",
      "  warnings.warn('Your pandas and pyarrow versions are incompatible. '\n"
     ]
    }
   ],
   "source": [
    "# Log In to Azure ML Workspace\n",
    "interactive_auth = InteractiveLoginAuthentication(tenant_id=\"76f90eb1-fb9a-4446-9875-4d323d6455ad\")\n",
    "\n",
    "# Initialise workspace\n",
    "ws = Workspace.from_config(auth=interactive_auth)\n",
    "\n",
    "# Data import \n",
    "aml_dataset = Dataset.get_by_name(ws, 'train_ds', version='latest')\n",
    "data = aml_dataset.to_pandas_dataframe()\n",
    "data.set_index('CardHolder', inplace=True)\n",
    "\n",
    "# Save it to the further opeartions\n",
    "original_columns = data.columns\n",
    "data_origin = data.copy()"
   ]
  },
  {
   "cell_type": "code",
   "execution_count": 20,
   "metadata": {},
   "outputs": [],
   "source": [
    "data = data_origin.copy()"
   ]
  },
  {
   "cell_type": "code",
   "execution_count": 21,
   "metadata": {
    "scrolled": true
   },
   "outputs": [],
   "source": [
    "from importlib import reload\n",
    "import features.functions\n",
    "reload(features.functions)\n",
    "\n",
    "#data = features.functions.preprocessing(data)\n",
    "data_w_features = data.copy()"
   ]
  },
  {
   "cell_type": "code",
   "execution_count": 22,
   "metadata": {},
   "outputs": [],
   "source": [
    "index_columns = ['gender', 'main_format', 'children']\n",
    "data = data_w_features.copy()\n",
    "\n",
    "# Let's fill NaN in \"index_columns\"\n",
    "data.loc[:, 'group'].replace({'test' : 1, 'control' : 0}, inplace=True)\n",
    "data.loc[:,'gender'].replace({'М' : 2, 'Ж' : 1, 'Не определен' : 0, None : 0}, inplace=True)\n",
    "data.loc[:,'children'].replace({None : -1}, inplace=True)"
   ]
  },
  {
   "cell_type": "code",
   "execution_count": 23,
   "metadata": {
    "scrolled": false
   },
   "outputs": [
    {
     "name": "stdout",
     "output_type": "stream",
     "text": [
      "[0]\tvalidation_0-merror:0.328241\tvalidation_0-mlogloss:1.31566\n",
      "[1]\tvalidation_0-merror:0.325161\tvalidation_0-mlogloss:1.2564\n",
      "[2]\tvalidation_0-merror:0.326273\tvalidation_0-mlogloss:1.20611\n",
      "[3]\tvalidation_0-merror:0.323618\tvalidation_0-mlogloss:1.16266\n",
      "[4]\tvalidation_0-merror:0.323432\tvalidation_0-mlogloss:1.12546\n",
      "[5]\tvalidation_0-merror:0.323548\tvalidation_0-mlogloss:1.09322\n",
      "[6]\tvalidation_0-merror:0.323507\tvalidation_0-mlogloss:1.06506\n",
      "[7]\tvalidation_0-merror:0.323082\tvalidation_0-mlogloss:1.04047\n",
      "[8]\tvalidation_0-merror:0.323112\tvalidation_0-mlogloss:1.01883\n",
      "[9]\tvalidation_0-merror:0.323199\tvalidation_0-mlogloss:0.999825\n",
      "[10]\tvalidation_0-merror:0.32243\tvalidation_0-mlogloss:0.982849\n",
      "[11]\tvalidation_0-merror:0.322401\tvalidation_0-mlogloss:0.96804\n",
      "[12]\tvalidation_0-merror:0.322436\tvalidation_0-mlogloss:0.954908\n",
      "[13]\tvalidation_0-merror:0.322308\tvalidation_0-mlogloss:0.943214\n",
      "[14]\tvalidation_0-merror:0.322116\tvalidation_0-mlogloss:0.932821\n",
      "[15]\tvalidation_0-merror:0.322058\tvalidation_0-mlogloss:0.923581\n",
      "[16]\tvalidation_0-merror:0.321953\tvalidation_0-mlogloss:0.915298\n",
      "[17]\tvalidation_0-merror:0.321889\tvalidation_0-mlogloss:0.90789\n",
      "[18]\tvalidation_0-merror:0.321866\tvalidation_0-mlogloss:0.901248\n",
      "[19]\tvalidation_0-merror:0.32172\tvalidation_0-mlogloss:0.89528\n"
     ]
    },
    {
     "data": {
      "text/plain": [
       "5.806842773362791"
      ]
     },
     "execution_count": 23,
     "metadata": {},
     "output_type": "execute_result"
    }
   ],
   "source": [
    "from scripts.metrics import custom_metric\n",
    "import features.functions\n",
    "reload(features.functions)\n",
    "\n",
    "data = data.reset_index().drop('CardHolder', axis=1)\n",
    "data.loc[:, 'group'].replace({1 : 'test', 0 : 'control'}, inplace=True)\n",
    "\n",
    "data['class'] = 0\n",
    "data.loc[(data['group'] == 'control') & (data['response_att'] == 1), 'class'] = 1\n",
    "data.loc[(data['group'] == 'test') & (data['response_att'] == 0), 'class'] = 2\n",
    "data.loc[(data['group'] == 'test') & (data['response_att'] == 1), 'class'] = 3\n",
    "\n",
    "train, test = train_test_split(data)\n",
    "train, test = features.functions.feature_generation(train, test, \n",
    "                                mean_columns=['group', 'response_att', 'stdev_days_between_visits_15d'],\n",
    "                                mean_index_columns=['gender', 'age', 'children'])\n",
    "\n",
    "x_train = train.drop(['class', 'group', 'response_att'], axis=1)\n",
    "y_train = train['class']\n",
    "\n",
    "x_test = test.drop(['class', 'group', 'response_att'], axis=1)\n",
    "y_test = test['class']\n",
    "\n",
    "params = {'n_estimators': 20, 'eval_metric': ['merror', 'mlogloss'], 'verbose': True, 'n_jobs': -1}\n",
    "model = xgboost.XGBClassifier(**params)\n",
    "\n",
    "model.fit(x_train, y_train, verbose=True, eval_set=[(x_test, y_test)])\n",
    "\n",
    "pred = model.predict_proba(x_test)\n",
    "final = pred[:,3] + pred[:,0] - pred[:,1] - pred[:,2]\n",
    "test['uplift'] = final\n",
    "\n",
    "custom_metric(test)"
   ]
  }
 ],
 "metadata": {
  "kernelspec": {
   "display_name": "py37_default",
   "language": "python",
   "name": "conda-env-py37_default-py"
  },
  "language_info": {
   "codemirror_mode": {
    "name": "ipython",
    "version": 3
   },
   "file_extension": ".py",
   "mimetype": "text/x-python",
   "name": "python",
   "nbconvert_exporter": "python",
   "pygments_lexer": "ipython3",
   "version": "3.7.7"
  }
 },
 "nbformat": 4,
 "nbformat_minor": 4
}
