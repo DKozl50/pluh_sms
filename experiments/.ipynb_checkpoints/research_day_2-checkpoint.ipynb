{
 "cells": [
  {
   "cell_type": "code",
   "execution_count": 1,
   "metadata": {},
   "outputs": [
    {
     "name": "stdout",
     "output_type": "stream",
     "text": [
      "You are currently using version 1.8.0 of the Azure ML SDK\n",
      "\n",
      "Workspace name: team20\n"
     ]
    }
   ],
   "source": [
    "import azureml.core\n",
    "from azureml.core.authentication import InteractiveLoginAuthentication\n",
    "from azureml.core import Experiment, Workspace\n",
    "\n",
    "# Check core SDK version number\n",
    "print(\"You are currently using version\", azureml.core.VERSION, \"of the Azure ML SDK\")\n",
    "print(\"\")\n",
    "\n",
    "# Log In to Azure ML Workspace\n",
    "interactive_auth = InteractiveLoginAuthentication(tenant_id=\"76f90eb1-fb9a-4446-9875-4d323d6455ad\")\n",
    "\n",
    "ws = Workspace.from_config(auth=interactive_auth)\n",
    "print('Workspace name: ' + ws.name, sep='\\n')"
   ]
  },
  {
   "cell_type": "code",
   "execution_count": 3,
   "metadata": {},
   "outputs": [
    {
     "name": "stderr",
     "output_type": "stream",
     "text": [
      "/anaconda/envs/py37_default/lib/python3.7/site-packages/azureml/dataprep/api/dataflow.py:722: UserWarning: Your pandas and pyarrow versions are incompatible. Please install pyarrow>=0.12.0 for improved performance of to_pandas_dataframe. You can ensure the correct version is installed by running: pip install pyarrow>=0.12.0 --upgrade\n",
      "  warnings.warn('Your pandas and pyarrow versions are incompatible. '\n"
     ]
    }
   ],
   "source": [
    "from azureml.core import Dataset\n",
    "\n",
    "aml_dataset = Dataset.get_by_name(ws, 'train_ds', version='latest')\n",
    "data = aml_dataset.to_pandas_dataframe()"
   ]
  },
  {
   "cell_type": "code",
   "execution_count": 7,
   "metadata": {},
   "outputs": [],
   "source": [
    "import sys\n",
    "sys.path.append('../scripts')\n",
    "\n",
    "from pipeline import StupidModel, run, validate_on_holdout"
   ]
  },
  {
   "cell_type": "code",
   "execution_count": 9,
   "metadata": {},
   "outputs": [],
   "source": [
    "import pandas as pd\n",
    "import numpy as np\n",
    "\n",
    "data['gender'].replace({'Ж': 0, 'М': 1, 'Не определен': np.NaN}, inplace=True)"
   ]
  },
  {
   "cell_type": "code",
   "execution_count": 10,
   "metadata": {},
   "outputs": [],
   "source": [
    "data_backup = data.copy()"
   ]
  },
  {
   "cell_type": "code",
   "execution_count": 50,
   "metadata": {},
   "outputs": [],
   "source": [
    "from importlib import reload\n",
    "import pipeline\n",
    "reload(pipeline)\n",
    "from pipeline import StupidModel, run, validate_on_holdout"
   ]
  },
  {
   "cell_type": "code",
   "execution_count": 17,
   "metadata": {},
   "outputs": [],
   "source": [
    "pd.options.mode.chained_assignment = None"
   ]
  },
  {
   "cell_type": "code",
   "execution_count": 24,
   "metadata": {},
   "outputs": [
    {
     "name": "stdout",
     "output_type": "stream",
     "text": [
      "Обучаем модель на тестовой группе:\n",
      "[0]\teval_0-ndcg:0.87131\teval_0-map:0.303736\n",
      "[1]\teval_0-ndcg:0.871537\teval_0-map:0.303722\n",
      "[2]\teval_0-ndcg:0.871604\teval_0-map:0.301612\n",
      "[3]\teval_0-ndcg:0.871765\teval_0-map:0.30365\n",
      "[4]\teval_0-ndcg:0.87189\teval_0-map:0.305832\n",
      "\n",
      "Обучаем модель на контрольной группе:\n",
      "[0]\teval_0-ndcg:0.849635\teval_0-map:0.300214\n",
      "[1]\teval_0-ndcg:0.85054\teval_0-map:0.302195\n",
      "[2]\teval_0-ndcg:0.850756\teval_0-map:0.310033\n",
      "[3]\teval_0-ndcg:0.858455\teval_0-map:0.330558\n",
      "[4]\teval_0-ndcg:0.85906\teval_0-map:0.330153\n",
      "{'train': 1.1915161985848897, 'test': 1.0653875742612895, 'train_random': 0.7867898411214616, 'test_random': 0.6414885071101472}\n"
     ]
    }
   ],
   "source": [
    "params = {'n_estimators': 5, 'eval_metric': ['ndcg', 'map'], 'verbose': True}\n",
    "model = StupidModel(params)\n",
    "score, model, scaled_test, scaled_control, preds = validate_on_holdout(data, model, verbose=True)\n",
    "print(score)"
   ]
  },
  {
   "cell_type": "code",
   "execution_count": 25,
   "metadata": {},
   "outputs": [
    {
     "name": "stdout",
     "output_type": "stream",
     "text": [
      "Spearman:  SpearmanrResult(correlation=0.9923198319455281, pvalue=0.0)\n",
      "Pearson:  (0.9935372677592385, 0.0)\n"
     ]
    }
   ],
   "source": [
    "from scipy.stats import spearmanr, pearsonr\n",
    "\n",
    "print('Spearman: ', spearmanr(scaled_test[:,0], scaled_control[:,0]))\n",
    "print('Pearson: ', pearsonr(scaled_test[:,0], scaled_control[:,0]))"
   ]
  },
  {
   "cell_type": "code",
   "execution_count": 57,
   "metadata": {},
   "outputs": [],
   "source": [
    "import xgboost as xgb\n",
    "params = {'n_estimators': 20, 'eval_metric': ['logloss', 'auc', 'error'], 'verbose': True}\n",
    "model1 = xgb.sklearn.XGBClassifier(**params)\n",
    "model2 = xgb.sklearn.XGBClassifier(**params)\n",
    "model = StupidModel(scale=False, test_model=model1, control_model=model2, ranking=False)"
   ]
  },
  {
   "cell_type": "code",
   "execution_count": 48,
   "metadata": {},
   "outputs": [
    {
     "name": "stdout",
     "output_type": "stream",
     "text": [
      "Обучаем модель на тестовой группе:\n",
      "[0]\tvalidation_0-logloss:0.63048\tvalidation_0-auc:0.764438\tvalidation_0-error:0.107425\n",
      "[1]\tvalidation_0-logloss:0.579555\tvalidation_0-auc:0.771657\tvalidation_0-error:0.107425\n",
      "[2]\tvalidation_0-logloss:0.536924\tvalidation_0-auc:0.772763\tvalidation_0-error:0.107163\n",
      "[3]\tvalidation_0-logloss:0.501896\tvalidation_0-auc:0.778588\tvalidation_0-error:0.107105\n",
      "[4]\tvalidation_0-logloss:0.471512\tvalidation_0-auc:0.779552\tvalidation_0-error:0.107483\n",
      "\n",
      "Обучаем модель на контрольной группе:\n",
      "[0]\tvalidation_0-logloss:0.628398\tvalidation_0-auc:0.774143\tvalidation_0-error:0.098986\n",
      "[1]\tvalidation_0-logloss:0.57555\tvalidation_0-auc:0.776891\tvalidation_0-error:0.098636\n",
      "[2]\tvalidation_0-logloss:0.531549\tvalidation_0-auc:0.781363\tvalidation_0-error:0.098869\n",
      "[3]\tvalidation_0-logloss:0.494682\tvalidation_0-auc:0.782152\tvalidation_0-error:0.098752\n",
      "[4]\tvalidation_0-logloss:0.463517\tvalidation_0-auc:0.782937\tvalidation_0-error:0.098665\n"
     ]
    }
   ],
   "source": [
    "from sklearn.model_selection import train_test_split\n",
    "\n",
    "train, test = train_test_split(data, test_size=0.2, stratify=data['group'],\n",
    "                                   shuffle=True)\n",
    "model.fit(train.drop(['group', 'response_att'], axis=1), train['response_att'], train['group'],\n",
    "              eval_data=(test.drop(['group', 'response_att'], axis=1), test['response_att'], test['group']))\n"
   ]
  },
  {
   "cell_type": "code",
   "execution_count": 55,
   "metadata": {},
   "outputs": [
    {
     "data": {
      "text/plain": [
       "<matplotlib.axes._subplots.AxesSubplot at 0x7f1af65dffd0>"
      ]
     },
     "execution_count": 55,
     "metadata": {},
     "output_type": "execute_result"
    },
    {
     "data": {
      "image/png": "[encoded data removed]",
      "text/plain": [
       "<Figure size 432x288 with 1 Axes>"
      ]
     },
     "metadata": {
      "needs_background": "light"
     },
     "output_type": "display_data"
    }
   ],
   "source": [
    "import seaborn as sns\n",
    "sns.distplot(scaled_test)"
   ]
  },
  {
   "cell_type": "code",
   "execution_count": 56,
   "metadata": {},
   "outputs": [
    {
     "data": {
      "text/plain": [
       "<matplotlib.axes._subplots.AxesSubplot at 0x7f1af6199810>"
      ]
     },
     "execution_count": 56,
     "metadata": {},
     "output_type": "execute_result"
    },
    {
     "data": {
      "image/png": "[encoded data removed]",
      "text/plain": [
       "<Figure size 432x288 with 1 Axes>"
      ]
     },
     "metadata": {
      "needs_background": "light"
     },
     "output_type": "display_data"
    }
   ],
   "source": [
    "import seaborn as sns\n",
    "sns.distplot(scaled_control)"
   ]
  },
  {
   "cell_type": "code",
   "execution_count": null,
   "metadata": {},
   "outputs": [],
   "source": [
    "sns.distplot(model.predict(test.drop(['group', 'response_att'], axis=1)))"
   ]
  },
  {
   "cell_type": "code",
   "execution_count": 58,
   "metadata": {},
   "outputs": [
    {
     "name": "stdout",
     "output_type": "stream",
     "text": [
      "Обучаем модель на тестовой группе:\n",
      "[0]\tvalidation_0-logloss:0.630488\tvalidation_0-auc:0.76453\tvalidation_0-error:0.107095\n",
      "[1]\tvalidation_0-logloss:0.579403\tvalidation_0-auc:0.771082\tvalidation_0-error:0.107095\n",
      "[2]\tvalidation_0-logloss:0.536778\tvalidation_0-auc:0.77185\tvalidation_0-error:0.107095\n",
      "[3]\tvalidation_0-logloss:0.501513\tvalidation_0-auc:0.778595\tvalidation_0-error:0.107095\n",
      "[4]\tvalidation_0-logloss:0.471152\tvalidation_0-auc:0.77934\tvalidation_0-error:0.107095\n",
      "[5]\tvalidation_0-logloss:0.445704\tvalidation_0-auc:0.779883\tvalidation_0-error:0.107037\n",
      "[6]\tvalidation_0-logloss:0.423915\tvalidation_0-auc:0.78015\tvalidation_0-error:0.107066\n",
      "[7]\tvalidation_0-logloss:0.405434\tvalidation_0-auc:0.780815\tvalidation_0-error:0.107057\n",
      "[8]\tvalidation_0-logloss:0.389232\tvalidation_0-auc:0.781391\tvalidation_0-error:0.107037\n",
      "[9]\tvalidation_0-logloss:0.375581\tvalidation_0-auc:0.781402\tvalidation_0-error:0.107028\n",
      "[10]\tvalidation_0-logloss:0.363467\tvalidation_0-auc:0.781933\tvalidation_0-error:0.106989\n",
      "[11]\tvalidation_0-logloss:0.35329\tvalidation_0-auc:0.782084\tvalidation_0-error:0.106814\n",
      "[12]\tvalidation_0-logloss:0.344467\tvalidation_0-auc:0.782108\tvalidation_0-error:0.106824\n",
      "[13]\tvalidation_0-logloss:0.336785\tvalidation_0-auc:0.782414\tvalidation_0-error:0.106766\n",
      "[14]\tvalidation_0-logloss:0.329983\tvalidation_0-auc:0.784626\tvalidation_0-error:0.106843\n",
      "[15]\tvalidation_0-logloss:0.324112\tvalidation_0-auc:0.78538\tvalidation_0-error:0.106795\n",
      "[16]\tvalidation_0-logloss:0.319241\tvalidation_0-auc:0.785696\tvalidation_0-error:0.106795\n",
      "[17]\tvalidation_0-logloss:0.314842\tvalidation_0-auc:0.786453\tvalidation_0-error:0.106785\n",
      "[18]\tvalidation_0-logloss:0.310995\tvalidation_0-auc:0.786583\tvalidation_0-error:0.106737\n",
      "[19]\tvalidation_0-logloss:0.307704\tvalidation_0-auc:0.787054\tvalidation_0-error:0.106601\n",
      "\n",
      "Обучаем модель на контрольной группе:\n",
      "[0]\tvalidation_0-logloss:0.628318\tvalidation_0-auc:0.775386\tvalidation_0-error:0.099512\n",
      "[1]\tvalidation_0-logloss:0.575284\tvalidation_0-auc:0.779551\tvalidation_0-error:0.099512\n",
      "[2]\tvalidation_0-logloss:0.531426\tvalidation_0-auc:0.781736\tvalidation_0-error:0.099395\n",
      "[3]\tvalidation_0-logloss:0.494527\tvalidation_0-auc:0.782916\tvalidation_0-error:0.098986\n",
      "[4]\tvalidation_0-logloss:0.46337\tvalidation_0-auc:0.783054\tvalidation_0-error:0.099395\n",
      "[5]\tvalidation_0-logloss:0.436908\tvalidation_0-auc:0.78825\tvalidation_0-error:0.099454\n",
      "[6]\tvalidation_0-logloss:0.414264\tvalidation_0-auc:0.789621\tvalidation_0-error:0.099483\n",
      "[7]\tvalidation_0-logloss:0.394812\tvalidation_0-auc:0.790442\tvalidation_0-error:0.099571\n",
      "[8]\tvalidation_0-logloss:0.378067\tvalidation_0-auc:0.79087\tvalidation_0-error:0.099278\n",
      "[9]\tvalidation_0-logloss:0.363735\tvalidation_0-auc:0.791112\tvalidation_0-error:0.099191\n",
      "[10]\tvalidation_0-logloss:0.351278\tvalidation_0-auc:0.791196\tvalidation_0-error:0.099132\n",
      "[11]\tvalidation_0-logloss:0.340546\tvalidation_0-auc:0.791275\tvalidation_0-error:0.099132\n",
      "[12]\tvalidation_0-logloss:0.331154\tvalidation_0-auc:0.79106\tvalidation_0-error:0.099015\n",
      "[13]\tvalidation_0-logloss:0.323105\tvalidation_0-auc:0.791211\tvalidation_0-error:0.098782\n",
      "[14]\tvalidation_0-logloss:0.316085\tvalidation_0-auc:0.794122\tvalidation_0-error:0.098723\n",
      "[15]\tvalidation_0-logloss:0.309908\tvalidation_0-auc:0.795325\tvalidation_0-error:0.098899\n",
      "[16]\tvalidation_0-logloss:0.304563\tvalidation_0-auc:0.796312\tvalidation_0-error:0.098782\n",
      "[17]\tvalidation_0-logloss:0.299931\tvalidation_0-auc:0.796623\tvalidation_0-error:0.098723\n",
      "[18]\tvalidation_0-logloss:0.295893\tvalidation_0-auc:0.796959\tvalidation_0-error:0.098723\n",
      "[19]\tvalidation_0-logloss:0.292376\tvalidation_0-auc:0.796713\tvalidation_0-error:0.098811\n",
      "{'train': 0.9993226936383104, 'test': 0.6277115395259492, 'train_random': 0.7106095810873884, 'test_random': 0.8920566286421922}\n",
      "\n",
      "Spearman:  SpearmanrResult(correlation=0.9941732547583572, pvalue=0.0)\n",
      "Pearson:  (0.9938330465267349, 0.0)\n"
     ]
    }
   ],
   "source": [
    "score, model, scaled_test, scaled_control, preds = validate_on_holdout(data, model, verbose=True)\n",
    "print(score)\n",
    "print('\\nSpearman: ', spearmanr(scaled_test, scaled_control))\n",
    "print('Pearson: ', pearsonr(scaled_test, scaled_control))"
   ]
  },
  {
   "cell_type": "code",
   "execution_count": 59,
   "metadata": {},
   "outputs": [
    {
     "data": {
      "text/plain": [
       "array([0.14464216, 0.22388512, 0.3237787 , ..., 0.1781438 , 0.16905557,\n",
       "       0.12195387], dtype=float32)"
      ]
     },
     "execution_count": 59,
     "metadata": {},
     "output_type": "execute_result"
    }
   ],
   "source": [
    "scaled_control"
   ]
  },
  {
   "cell_type": "code",
   "execution_count": 60,
   "metadata": {},
   "outputs": [
    {
     "data": {
      "text/plain": [
       "array([0.13602822, 0.23262553, 0.3334107 , ..., 0.16614938, 0.18549159,\n",
       "       0.12883857], dtype=float32)"
      ]
     },
     "execution_count": 60,
     "metadata": {},
     "output_type": "execute_result"
    }
   ],
   "source": [
    "scaled_test"
   ]
  },
  {
   "cell_type": "code",
   "execution_count": 83,
   "metadata": {},
   "outputs": [],
   "source": [
    "class ReverseModel:\n",
    "    def __init__(self, param=None, blend_type='multiply', model=None):\n",
    "        if param is None:\n",
    "            param = {'n_jobs': -1, 'n_estimators': 10, 'eval_metric': ['ndcg', 'map'],\n",
    "                     'objective': 'rank:ndcg', 'verbose': True}\n",
    "        elif 'verbose' not in param:\n",
    "            param['verbose'] = True\n",
    "\n",
    "        self.model = model\n",
    "            \n",
    "        if self.model is None:\n",
    "            self.model = xgboost.XGBClassifier(**param)\n",
    "        self.param = param\n",
    "        self.blend_type = blend_type\n",
    "        \n",
    "    def fit(self, data, group, eval_data=None):\n",
    "        if 'group' in data.columns:\n",
    "            data.drop('group', axis=1, inplace=True)\n",
    "        group.replace({'test': 1, 'control': 0}, inplace=True)\n",
    "        \n",
    "        eval_data, eval_group = eval_data\n",
    "        if 'group' in eval_data.columns:\n",
    "            eval_data.drop('group', axis=1, inplace=True)\n",
    "        eval_group.replace({'test': 1, 'control': 0}, inplace=True)\n",
    "\n",
    "        if self.param['verbose']:\n",
    "            print('Обучаем модель на тестовой группе:')\n",
    "            \n",
    "        self.model.fit(data, group,\n",
    "                            eval_set=[(eval_data, eval_group)],\n",
    "                            verbose = self.param['verbose'])\n",
    "\n",
    "    def predict(self, data, verbose=False):\n",
    "        data['response_att'] = 1\n",
    "        came = self.model.predict_proba(data)[:, 1]\n",
    "        data['response_att'] = 0\n",
    "        not_came = self.model.predict_proba(data)[:, 1]\n",
    "        return came, not_came\n",
    "    \n",
    "\n",
    "class ForwardModel:\n",
    "    def __init__(self, param=None, blend_type='multiply', model=None):\n",
    "        if param is None:\n",
    "            param = {'n_jobs': -1, 'n_estimators': 10, 'eval_metric': ['ndcg', 'map'],\n",
    "                     'objective': 'rank:ndcg', 'verbose': True}\n",
    "        elif 'verbose' not in param:\n",
    "            param['verbose'] = True\n",
    "\n",
    "        self.model = model\n",
    "            \n",
    "        if self.model is None:\n",
    "            self.model = xgboost.XGBClassifier(**param)\n",
    "        self.param = param\n",
    "        self.blend_type = blend_type\n",
    "        \n",
    "    def fit(self, data, y, eval_data=None):\n",
    "        if 'response_att' in data.columns:\n",
    "            data.drop('response_att', axis=1, inplace=True)\n",
    "        \n",
    "        data['group'].replace({'test': 1, 'control': 0}, inplace=True)\n",
    "        \n",
    "        eval_data, eval_y = eval_data\n",
    "        if 'response_att' in eval_data.columns:\n",
    "            eval_data.drop('response_att', axis=1, inplace=True)\n",
    "\n",
    "        eval_data['group'].replace({'test': 1, 'control': 0}, inplace=True)\n",
    "            \n",
    "        if self.param['verbose']:\n",
    "            print('Обучаем модель на тестовой группе:')\n",
    "            \n",
    "        self.model.fit(data, y,\n",
    "                            eval_set=[(eval_data, eval_y)],\n",
    "                            verbose = self.param['verbose'])\n",
    "\n",
    "    def predict(self, data, verbose=False):\n",
    "        data['group'] = 1\n",
    "        test = self.model.predict_proba(data)[:, 1]\n",
    "        data['group'] = 0\n",
    "        control = self.model.predict_proba(data)[:, 1]\n",
    "        return came, not_came"
   ]
  },
  {
   "cell_type": "code",
   "execution_count": 117,
   "metadata": {},
   "outputs": [],
   "source": [
    "import xgboost\n",
    "params = {'n_estimators': 5, 'eval_metric': ['logloss', 'auc', 'error'], 'verbose': True}\n",
    "model = ForwardModel(params)"
   ]
  },
  {
   "cell_type": "code",
   "execution_count": 96,
   "metadata": {},
   "outputs": [
    {
     "data": {
      "text/plain": [
       "0            test\n",
       "1            test\n",
       "2         control\n",
       "3            test\n",
       "4            test\n",
       "           ...   \n",
       "687024    control\n",
       "687025       test\n",
       "687026    control\n",
       "687027    control\n",
       "687028       test\n",
       "Name: group, Length: 687029, dtype: object"
      ]
     },
     "execution_count": 96,
     "metadata": {},
     "output_type": "execute_result"
    }
   ],
   "source": [
    "data['group']"
   ]
  },
  {
   "cell_type": "code",
   "execution_count": 118,
   "metadata": {},
   "outputs": [
    {
     "name": "stdout",
     "output_type": "stream",
     "text": [
      "Обучаем модель на тестовой группе:\n",
      "[0]\tvalidation_0-logloss:0.671001\tvalidation_0-auc:0.773578\tvalidation_0-error:0.2906\n",
      "[1]\tvalidation_0-logloss:0.653188\tvalidation_0-auc:0.77431\tvalidation_0-error:0.289333\n",
      "[2]\tvalidation_0-logloss:0.637831\tvalidation_0-auc:0.776992\tvalidation_0-error:0.289263\n",
      "[3]\tvalidation_0-logloss:0.625842\tvalidation_0-auc:0.779352\tvalidation_0-error:0.288501\n",
      "[4]\tvalidation_0-logloss:0.615294\tvalidation_0-auc:0.782697\tvalidation_0-error:0.288099\n"
     ]
    }
   ],
   "source": [
    "train, test = train_test_split(concat, test_size=0.2,\n",
    "                                   shuffle=True)\n",
    "model.fit(train.drop('response_att', axis=1), train['response_att'],\n",
    "              eval_data=(test.drop('response_att', axis=1), test['response_att']))"
   ]
  },
  {
   "cell_type": "code",
   "execution_count": 120,
   "metadata": {},
   "outputs": [],
   "source": [
    "pred_test, pred_control = model.predict(test.drop('response_att', axis=1))"
   ]
  },
  {
   "cell_type": "code",
   "execution_count": 125,
   "metadata": {},
   "outputs": [],
   "source": [
    "final = pred_test < 0.5"
   ]
  },
  {
   "cell_type": "code",
   "execution_count": 130,
   "metadata": {},
   "outputs": [
    {
     "data": {
      "text/plain": [
       "0.027429661004614064"
      ]
     },
     "execution_count": 130,
     "metadata": {},
     "output_type": "execute_result"
    }
   ],
   "source": [
    "final.sum() / final.shape[0]"
   ]
  },
  {
   "cell_type": "code",
   "execution_count": 128,
   "metadata": {},
   "outputs": [
    {
     "data": {
      "text/plain": [
       "(137406,)"
      ]
     },
     "execution_count": 128,
     "metadata": {},
     "output_type": "execute_result"
    }
   ],
   "source": [
    "final.shape"
   ]
  },
  {
   "cell_type": "code",
   "execution_count": 102,
   "metadata": {},
   "outputs": [],
   "source": [
    "data1 = data[data['response_att'] == 1]\n",
    "data0 = data[data['response_att'] == 0]"
   ]
  },
  {
   "cell_type": "code",
   "execution_count": 104,
   "metadata": {},
   "outputs": [
    {
     "data": {
      "text/plain": [
       "(74368, 196)"
      ]
     },
     "execution_count": 104,
     "metadata": {},
     "output_type": "execute_result"
    }
   ],
   "source": [
    "data1.shape"
   ]
  },
  {
   "cell_type": "code",
   "execution_count": 103,
   "metadata": {},
   "outputs": [
    {
     "data": {
      "text/plain": [
       "(612661, 196)"
      ]
     },
     "execution_count": 103,
     "metadata": {},
     "output_type": "execute_result"
    }
   ],
   "source": [
    "data0.shape"
   ]
  },
  {
   "cell_type": "code",
   "execution_count": 105,
   "metadata": {},
   "outputs": [],
   "source": [
    "concat = pd.concat([data1] * 8 + [data0])"
   ]
  },
  {
   "cell_type": "code",
   "execution_count": 108,
   "metadata": {},
   "outputs": [],
   "source": [
    "concat = concat.sample(frac=1).reset_index(drop=True)"
   ]
  },
  {
   "cell_type": "code",
   "execution_count": 111,
   "metadata": {},
   "outputs": [],
   "source": [
    "test, control = model.predict(test.drop('response_att', axis=1))"
   ]
  },
  {
   "cell_type": "code",
   "execution_count": 114,
   "metadata": {},
   "outputs": [
    {
     "data": {
      "text/plain": [
       "<matplotlib.axes._subplots.AxesSubplot at 0x7f1b06284d10>"
      ]
     },
     "execution_count": 114,
     "metadata": {},
     "output_type": "execute_result"
    },
    {
     "data": {
      "image/png": "[encoded data removed]",
      "text/plain": [
       "<Figure size 432x288 with 1 Axes>"
      ]
     },
     "metadata": {
      "needs_background": "light"
     },
     "output_type": "display_data"
    }
   ],
   "source": [
    "sns.distplot(test)"
   ]
  },
  {
   "cell_type": "code",
   "execution_count": 93,
   "metadata": {},
   "outputs": [
    {
     "data": {
      "text/plain": [
       "0    490129\n",
       "1     59494\n",
       "Name: response_att, dtype: int64"
      ]
     },
     "execution_count": 93,
     "metadata": {},
     "output_type": "execute_result"
    }
   ],
   "source": [
    "train['response_att'].value_counts()"
   ]
  },
  {
   "cell_type": "code",
   "execution_count": 91,
   "metadata": {},
   "outputs": [
    {
     "data": {
      "text/plain": [
       "<matplotlib.axes._subplots.AxesSubplot at 0x7f1b0042a950>"
      ]
     },
     "execution_count": 91,
     "metadata": {},
     "output_type": "execute_result"
    },
    {
     "data": {
      "image/png": "[encoded data removed]",
      "text/plain": [
       "<Figure size 432x288 with 1 Axes>"
      ]
     },
     "metadata": {
      "needs_background": "light"
     },
     "output_type": "display_data"
    }
   ],
   "source": [
    "sns.distplot(contorl)"
   ]
  },
  {
   "cell_type": "code",
   "execution_count": 78,
   "metadata": {},
   "outputs": [
    {
     "data": {
      "text/plain": [
       "1    412713\n",
       "0    136910\n",
       "Name: group, dtype: int64"
      ]
     },
     "execution_count": 78,
     "metadata": {},
     "output_type": "execute_result"
    }
   ],
   "source": [
    "train['group'].value_counts()"
   ]
  },
  {
   "cell_type": "code",
   "execution_count": 79,
   "metadata": {},
   "outputs": [
    {
     "data": {
      "text/plain": [
       "1    103179\n",
       "0     34227\n",
       "Name: group, dtype: int64"
      ]
     },
     "execution_count": 79,
     "metadata": {},
     "output_type": "execute_result"
    }
   ],
   "source": [
    "test['group'].value_counts()"
   ]
  },
  {
   "cell_type": "code",
   "execution_count": 92,
   "metadata": {},
   "outputs": [
    {
     "name": "stdout",
     "output_type": "stream",
     "text": [
      "\n",
      "Spearman:  SpearmanrResult(correlation=0.9987481156835069, pvalue=0.0)\n",
      "Pearson:  (0.9999690373929548, 0.0)\n"
     ]
    }
   ],
   "source": [
    "print('\\nSpearman: ', spearmanr(test, contorl))\n",
    "print('Pearson: ', pearsonr(test, contorl))"
   ]
  },
  {
   "cell_type": "code",
   "execution_count": 81,
   "metadata": {},
   "outputs": [],
   "source": [
    "data_test = data[data['group'] == 'test']\n",
    "data_control = data[data['group'] == 'control']"
   ]
  },
  {
   "cell_type": "code",
   "execution_count": 82,
   "metadata": {},
   "outputs": [
    {
     "name": "stdout",
     "output_type": "stream",
     "text": [
      "(515892, 196)\n",
      "(171137, 196)\n"
     ]
    }
   ],
   "source": [
    "print(data_test.shape)\n",
    "print(data_control.shape)"
   ]
  },
  {
   "cell_type": "code",
   "execution_count": 75,
   "metadata": {},
   "outputs": [],
   "source": [
    "came, not_came = model.predict(test.drop('group', axis=1))"
   ]
  }
 ],
 "metadata": {
  "kernelspec": {
   "display_name": "py37_default",
   "language": "python",
   "name": "conda-env-py37_default-py"
  },
  "language_info": {
   "codemirror_mode": {
    "name": "ipython",
    "version": 3
   },
   "file_extension": ".py",
   "mimetype": "text/x-python",
   "name": "python",
   "nbconvert_exporter": "python",
   "pygments_lexer": "ipython3",
   "version": "3.7.7"
  }
 },
 "nbformat": 4,
 "nbformat_minor": 4
}
